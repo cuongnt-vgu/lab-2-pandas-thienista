{
 "cells": [
  {
   "cell_type": "code",
   "execution_count": 1,
   "metadata": {},
   "outputs": [
    {
     "name": "stdout",
     "output_type": "stream",
     "text": [
      "Setup Complete\n"
     ]
    }
   ],
   "source": [
    "from learntools.core import binder\n",
    "binder.bind(globals())\n",
    "from learntools_ex import *\n",
    "print(\"Setup Complete\")\n",
    "\n",
    "import numpy as np, pandas as pd"
   ]
  },
  {
   "cell_type": "markdown",
   "metadata": {},
   "source": [
    "> **WARNING:** The tests will fail if you reorder the columns or rows for no reason.\n",
    "\n",
    "> **Note**: The dataset 3 is large enough to exceed the Github normal storage for repositories. You **should not push** the whole file and only use it locally. You can modify `.gitignore` to command git to ignore that file."
   ]
  },
  {
   "cell_type": "markdown",
   "metadata": {},
   "source": [
    "**ATTENTION:** _For questions which require you to have a pre-loaded dataset assigned to a variable, make sure to **not make any changes to that variable** either inside or outside of your solution functions. This could be done by **copying or cloning** the variable to another temporary variable which can be read or written as you like. For example, you have a variable `df` which is storing a dataset by running `df = pandas.read_csv(\"path/to/your/file.csv\")`, and a question asking you to \"multiply column A by 3\". One possible solution would be:_\n",
    "\n",
    "```python\n",
    "import pandas as pd\n",
    "\n",
    "df = pd.read_csv(\"path/to/your/file.csv\")\n",
    "\n",
    "def exercise_n(df) -> pd.DataFrame:\n",
    "    df['A'] = df['A'] * 3 #changes made directly to column A of the df variable\n",
    "    return df\n",
    "\n",
    "exn_sol = exercise_n(df)\n",
    "```\n",
    "\n",
    "_This will be fine if the dataset is only used for that single question. However, as Python treats the arguments of functions are passed by references if the arguments are objects, writing this kind of function would overwrite the data in your original `df`. To avoid this, you should always make a copy at the beginning of your function and manipulate that copy instead of the argument. It would look like this:_\n",
    "\n",
    "```python\n",
    "import pandas as pd\n",
    "\n",
    "df = pd.read_csv(\"path/to/your/file.csv\")\n",
    "\n",
    "def exercise_n(df) -> pd.DataFrame:\n",
    "    cloned_df = df.copy() #temporary variable for manipulations\n",
    "\n",
    "    cloned_df['A'] = cloned_df['A'] * 3 #note that the df argument is not used anywhere else except for the cloning step\n",
    "    return cloned_df\n",
    "\n",
    "exn_sol = exercise_n(df)\n",
    "```"
   ]
  },
  {
   "cell_type": "markdown",
   "metadata": {},
   "source": [
    "## Questions"
   ]
  },
  {
   "cell_type": "markdown",
   "metadata": {},
   "source": [
    "### Q1: Form a DataFrame with values and column names given below. Use the variable names as column names."
   ]
  },
  {
   "cell_type": "code",
   "execution_count": 2,
   "metadata": {},
   "outputs": [
    {
     "name": "stdout",
     "output_type": "stream",
     "text": [
      "   A  B\n",
      "0  1  5\n",
      "1  2  6\n",
      "2  3  7\n",
      "3  4  8\n"
     ]
    },
    {
     "data": {
      "application/javascript": "parent.postMessage({\"jupyterEvent\": \"custom.exercise_interaction\", \"data\": {\"outcomeType\": 1, \"valueTowardsCompletion\": 0.05, \"interactionType\": 1, \"questionType\": 1, \"questionId\": \"1_Exercise1\", \"failureMessage\": \"\", \"exceptionClass\": \"\", \"trace\": \"\"}}, \"*\")",
      "text/plain": [
       "<IPython.core.display.Javascript object>"
      ]
     },
     "metadata": {},
     "output_type": "display_data"
    },
    {
     "data": {
      "text/markdown": [
       "<span style=\"color:#33cc33\">Correct</span>"
      ],
      "text/plain": [
       "Correct"
      ]
     },
     "metadata": {},
     "output_type": "display_data"
    }
   ],
   "source": [
    "A = [1, 2, 3, 4]\n",
    "B = [5, 6, 7, 8]\n",
    "\n",
    "def exercise_1(A, B) -> pd.DataFrame:\n",
    "    array = np.array(list(zip(A, B)))\n",
    "    q1_sol = pd.DataFrame(array, columns=[\"A\", \"B\"])\n",
    "\n",
    "    print (q1_sol)\n",
    "    return q1_sol\n",
    "    #return NotImplementedError\n",
    "\n",
    "ex1_sol = exercise_1(A, B)\n",
    "q1.check()"
   ]
  },
  {
   "cell_type": "markdown",
   "metadata": {},
   "source": [
    "### Q2: Form a DataFrame with the given Series. Use the variable names as column names."
   ]
  },
  {
   "cell_type": "code",
   "execution_count": 4,
   "metadata": {},
   "outputs": [
    {
     "name": "stdout",
     "output_type": "stream",
     "text": [
      "  ser1  ser2\n",
      "0    i     0\n",
      "1    l     1\n",
      "2    o     2\n",
      "3    v     3\n",
      "4    e     4\n",
      "5    y     5\n",
      "6    o     6\n",
      "7    u     7\n"
     ]
    },
    {
     "data": {
      "application/javascript": "parent.postMessage({\"jupyterEvent\": \"custom.exercise_interaction\", \"data\": {\"outcomeType\": 1, \"valueTowardsCompletion\": 0.05, \"interactionType\": 1, \"questionType\": 1, \"questionId\": \"2_Exercise2\", \"failureMessage\": \"\", \"exceptionClass\": \"\", \"trace\": \"\"}}, \"*\")",
      "text/plain": [
       "<IPython.core.display.Javascript object>"
      ]
     },
     "metadata": {},
     "output_type": "display_data"
    },
    {
     "data": {
      "text/markdown": [
       "<span style=\"color:#33cc33\">Correct</span>"
      ],
      "text/plain": [
       "Correct"
      ]
     },
     "metadata": {},
     "output_type": "display_data"
    }
   ],
   "source": [
    "ser1 = pd.Series(list('iloveyou'))\n",
    "ser2 = pd.Series(range(8))\n",
    "\n",
    "def exercise_2(ser1, ser2) -> pd.DataFrame:\n",
    "    #print(ser1, ser2)\n",
    "    q2_sol = pd.DataFrame({\"ser1\": ser1, \"ser2\": ser2})\n",
    "    print(q2_sol)\n",
    "    return q2_sol\n",
    "    #return NotImplementedError\n",
    "\n",
    "ex2_sol = exercise_2(ser1, ser2)\n",
    "q2.check()"
   ]
  },
  {
   "cell_type": "markdown",
   "metadata": {},
   "source": [
    "### Q3: How to get the items not common to both series A and series B? (Not in their intersection set)"
   ]
  },
  {
   "cell_type": "code",
   "execution_count": 5,
   "metadata": {},
   "outputs": [
    {
     "name": "stdout",
     "output_type": "stream",
     "text": [
      "0    11\n",
      "1    12\n",
      "2    13\n",
      "3    16\n",
      "4    17\n",
      "5    18\n",
      "dtype: int64\n"
     ]
    },
    {
     "data": {
      "application/javascript": "parent.postMessage({\"jupyterEvent\": \"custom.exercise_interaction\", \"data\": {\"outcomeType\": 1, \"valueTowardsCompletion\": 0.05, \"interactionType\": 1, \"questionType\": 1, \"questionId\": \"3_Exercise3\", \"failureMessage\": \"\", \"exceptionClass\": \"\", \"trace\": \"\"}}, \"*\")",
      "text/plain": [
       "<IPython.core.display.Javascript object>"
      ]
     },
     "metadata": {},
     "output_type": "display_data"
    },
    {
     "data": {
      "text/markdown": [
       "<span style=\"color:#33cc33\">Correct</span>"
      ],
      "text/plain": [
       "Correct"
      ]
     },
     "metadata": {},
     "output_type": "display_data"
    }
   ],
   "source": [
    "A = pd.Series([14, 15, 16, 17, 18])\n",
    "B = pd.Series([11, 12, 13, 14, 15])\n",
    "\n",
    "def exercise_3(A, B) -> pd.Series:\n",
    "    '''\n",
    "    A = A.to_list()\n",
    "    B = B.to_list()\n",
    "\n",
    "    unique_items = []\n",
    "\n",
    "    for item in A:\n",
    "        if item not in B:\n",
    "            unique_items.append(item)\n",
    "    \n",
    "    for item in B:\n",
    "        if item not in A:\n",
    "            unique_items.append(item)\n",
    "    \n",
    "    ex3_sol = sorted(unique_items)\n",
    "    print(ex3_sol)\n",
    "    return (ex3_sol)\n",
    "    '''\n",
    "    ex3_sol = pd.Series(list(set(A).symmetric_difference(set(B))))\n",
    "    print(pd.Series([11, 12, 13, 16, 17, 18]))\n",
    "    return ex3_sol.sort_values()\n",
    "\n",
    "                \n",
    "    #return NotImplementedError\n",
    "\n",
    "ex3_sol = exercise_3(A, B)\n",
    "q3.check()"
   ]
  },
  {
   "cell_type": "markdown",
   "metadata": {},
   "source": [
    "## Instructions for Dataset 1\n",
    "\n",
    "The `DataFrame` given below will be used for questions 4, 5 and 6."
   ]
  },
  {
   "cell_type": "code",
   "execution_count": 6,
   "metadata": {},
   "outputs": [],
   "source": [
    "df = pd.DataFrame({ \n",
    "    'ID': [10, np.nan, 20, 30, np.nan, 50, np.nan, \n",
    "           150, 200, 102, np.nan, 130], \n",
    "  \n",
    "    'Sale': [10, 20, np.nan, 11, 90, np.nan, \n",
    "             55, 14, np.nan, 25, 75, 35], \n",
    "  \n",
    "    'Date': ['2020-10-05', '2020-09-10', np.nan, \n",
    "             '2020-08-17', '2020-09-10', '2020-07-27', \n",
    "             '2020-09-10', '2020-10-10', '2020-10-10', \n",
    "             '2020-06-27', '2020-08-17', '2020-04-25'], \n",
    "})"
   ]
  },
  {
   "cell_type": "markdown",
   "metadata": {},
   "source": [
    "## Questions"
   ]
  },
  {
   "cell_type": "markdown",
   "metadata": {},
   "source": [
    "### Q4: Fill any NaN value in the column 'Sale' with 0. Return the filled column 'Sale' only."
   ]
  },
  {
   "cell_type": "code",
   "execution_count": 7,
   "metadata": {},
   "outputs": [
    {
     "name": "stdout",
     "output_type": "stream",
     "text": [
      "0     10.0\n",
      "1     20.0\n",
      "2      0.0\n",
      "3     11.0\n",
      "4     90.0\n",
      "5      0.0\n",
      "6     55.0\n",
      "7     14.0\n",
      "8      0.0\n",
      "9     25.0\n",
      "10    75.0\n",
      "11    35.0\n",
      "Name: Sale, dtype: float64\n"
     ]
    },
    {
     "data": {
      "application/javascript": "parent.postMessage({\"jupyterEvent\": \"custom.exercise_interaction\", \"data\": {\"outcomeType\": 1, \"valueTowardsCompletion\": 0.05, \"interactionType\": 1, \"questionType\": 1, \"questionId\": \"4_Exercise4\", \"failureMessage\": \"\", \"exceptionClass\": \"\", \"trace\": \"\"}}, \"*\")",
      "text/plain": [
       "<IPython.core.display.Javascript object>"
      ]
     },
     "metadata": {},
     "output_type": "display_data"
    },
    {
     "data": {
      "text/markdown": [
       "<span style=\"color:#33cc33\">Correct</span>"
      ],
      "text/plain": [
       "Correct"
      ]
     },
     "metadata": {},
     "output_type": "display_data"
    }
   ],
   "source": [
    "def exercise_4(df) -> pd.Series:\n",
    "    df_copy = df.copy()\n",
    "    df_copy['Sale'] = df_copy['Sale'].fillna(0)\n",
    "    print(df_copy['Sale'])\n",
    "    return df_copy['Sale']\n",
    "\n",
    "\n",
    "    #return NotImplementedError\n",
    "\n",
    "ex4_sol = exercise_4(df)\n",
    "q4.check()"
   ]
  },
  {
   "cell_type": "markdown",
   "metadata": {},
   "source": [
    "### Q5: Fill any NaN value of the column \"Sale\" with the mean value of the column. Return the filled column 'Sale' only. Round your results to the nearest integer."
   ]
  },
  {
   "cell_type": "code",
   "execution_count": 8,
   "metadata": {},
   "outputs": [
    {
     "name": "stdout",
     "output_type": "stream",
     "text": [
      "0     10.0\n",
      "1     20.0\n",
      "2      NaN\n",
      "3     11.0\n",
      "4     90.0\n",
      "5      NaN\n",
      "6     55.0\n",
      "7     14.0\n",
      "8      NaN\n",
      "9     25.0\n",
      "10    75.0\n",
      "11    35.0\n",
      "Name: Sale, dtype: float64\n",
      "37\n",
      "0     10.0\n",
      "1     20.0\n",
      "2     37.0\n",
      "3     11.0\n",
      "4     90.0\n",
      "5     37.0\n",
      "6     55.0\n",
      "7     14.0\n",
      "8     37.0\n",
      "9     25.0\n",
      "10    75.0\n",
      "11    35.0\n",
      "Name: Sale, dtype: float64\n"
     ]
    },
    {
     "data": {
      "application/javascript": "parent.postMessage({\"jupyterEvent\": \"custom.exercise_interaction\", \"data\": {\"outcomeType\": 1, \"valueTowardsCompletion\": 0.05, \"interactionType\": 1, \"questionType\": 1, \"questionId\": \"5_Exercise5\", \"failureMessage\": \"\", \"exceptionClass\": \"\", \"trace\": \"\"}}, \"*\")",
      "text/plain": [
       "<IPython.core.display.Javascript object>"
      ]
     },
     "metadata": {},
     "output_type": "display_data"
    },
    {
     "data": {
      "text/markdown": [
       "<span style=\"color:#33cc33\">Correct</span>"
      ],
      "text/plain": [
       "Correct"
      ]
     },
     "metadata": {},
     "output_type": "display_data"
    }
   ],
   "source": [
    "def exercise_5(df) -> pd.Series:\n",
    "    df_copy = df.copy()\n",
    "    df_copy['Sale'] = df_copy['Sale'].replace(0, np.nan)\n",
    "\n",
    "    print(df_copy['Sale'])\n",
    "\n",
    "    mean_Sale = round(df_copy['Sale'].mean())\n",
    "    print(mean_Sale)\n",
    "\n",
    "    mean_Sale_replace_nan = df_copy['Sale'].fillna(mean_Sale)\n",
    "    print(mean_Sale_replace_nan)\n",
    "    return mean_Sale_replace_nan\n",
    "\n",
    "    #return NotImplementedError\n",
    "\n",
    "ex5_sol = exercise_5(df)\n",
    "q5.check()"
   ]
  },
  {
   "cell_type": "markdown",
   "metadata": {},
   "source": [
    "### Q6: How many products are there which can be identified with \"ID\"?"
   ]
  },
  {
   "cell_type": "code",
   "execution_count": 9,
   "metadata": {},
   "outputs": [
    {
     "name": "stdout",
     "output_type": "stream",
     "text": [
      "0      10.0\n",
      "1       NaN\n",
      "2      20.0\n",
      "3      30.0\n",
      "4       NaN\n",
      "5      50.0\n",
      "6       NaN\n",
      "7     150.0\n",
      "8     200.0\n",
      "9     102.0\n",
      "10      NaN\n",
      "11    130.0\n",
      "Name: ID, dtype: float64\n",
      "8\n"
     ]
    },
    {
     "data": {
      "application/javascript": "parent.postMessage({\"jupyterEvent\": \"custom.exercise_interaction\", \"data\": {\"outcomeType\": 1, \"valueTowardsCompletion\": 0.05, \"interactionType\": 1, \"questionType\": 1, \"questionId\": \"6_Exercise6\", \"failureMessage\": \"\", \"exceptionClass\": \"\", \"trace\": \"\"}}, \"*\")",
      "text/plain": [
       "<IPython.core.display.Javascript object>"
      ]
     },
     "metadata": {},
     "output_type": "display_data"
    },
    {
     "data": {
      "text/markdown": [
       "<span style=\"color:#33cc33\">Correct</span>"
      ],
      "text/plain": [
       "Correct"
      ]
     },
     "metadata": {},
     "output_type": "display_data"
    }
   ],
   "source": [
    "def exercise_6(df) -> int:\n",
    "    df_copy = df.copy()\n",
    "    print(df_copy['ID'])\n",
    "    not_nan = []\n",
    "\n",
    "    for i in df_copy['ID']:\n",
    "        if not np.isnan(i):\n",
    "            not_nan.append(i)\n",
    "\n",
    "    print(len(not_nan))\n",
    "    return(len(not_nan))\n",
    "    #return NotImplementedError\n",
    "\n",
    "ex6_sol = exercise_6(df)\n",
    "q6.check()"
   ]
  },
  {
   "cell_type": "markdown",
   "metadata": {},
   "source": [
    "## Instructions for dataset 2\n",
    "Get your data at [https://raw.githubusercontent.com/guipsamora/pandas_exercises/master/04_Apply/US_Crime_Rates/US_Crime_Rates_1960_2014.csv](https://raw.githubusercontent.com/guipsamora/pandas_exercises/master/04_Apply/US_Crime_Rates/US_Crime_Rates_1960_2014.csv) and change the path to your downloaded file. Store it as a `Dataframe` in a variable for your answers later."
   ]
  },
  {
   "cell_type": "code",
   "execution_count": 10,
   "metadata": {},
   "outputs": [],
   "source": [
    "# reading and storing in this cell\n",
    "df = pd.read_csv('/workspaces/lab-2-pandas-thienista/US_Crime_Rates_1960_2014.csv')"
   ]
  },
  {
   "cell_type": "markdown",
   "metadata": {},
   "source": [
    "## Questions"
   ]
  },
  {
   "cell_type": "markdown",
   "metadata": {},
   "source": [
    "### Q7: How many years of crime data are collected in the dataset? (The crime data has been collected in a span of ? years)"
   ]
  },
  {
   "cell_type": "code",
   "execution_count": 11,
   "metadata": {},
   "outputs": [
    {
     "name": "stdout",
     "output_type": "stream",
     "text": [
      "55\n"
     ]
    },
    {
     "data": {
      "application/javascript": "parent.postMessage({\"jupyterEvent\": \"custom.exercise_interaction\", \"data\": {\"outcomeType\": 1, \"valueTowardsCompletion\": 0.05, \"interactionType\": 1, \"questionType\": 1, \"questionId\": \"7_Exercise7\", \"failureMessage\": \"\", \"exceptionClass\": \"\", \"trace\": \"\"}}, \"*\")",
      "text/plain": [
       "<IPython.core.display.Javascript object>"
      ]
     },
     "metadata": {},
     "output_type": "display_data"
    },
    {
     "data": {
      "text/markdown": [
       "<span style=\"color:#33cc33\">Correct</span>"
      ],
      "text/plain": [
       "Correct"
      ]
     },
     "metadata": {},
     "output_type": "display_data"
    }
   ],
   "source": [
    "def exercise_7(df) -> int:\n",
    "    df_copy = df.copy()\n",
    "    print(len(df_copy['Year']))\n",
    "    return(len(df_copy['Year']))\n",
    "    #return NotImplementedError\n",
    "\n",
    "ex7_sol = exercise_7(df)\n",
    "q7.check()"
   ]
  },
  {
   "cell_type": "markdown",
   "metadata": {},
   "source": [
    "### Q8: Find the year with the highest number of property crimes."
   ]
  },
  {
   "cell_type": "code",
   "execution_count": 12,
   "metadata": {},
   "outputs": [
    {
     "name": "stdout",
     "output_type": "stream",
     "text": [
      "    Year  Property\n",
      "0   1960   3095700\n",
      "1   1961   3198600\n",
      "2   1962   3450700\n",
      "3   1963   3792500\n",
      "4   1964   4200400\n",
      "5   1965   4352000\n",
      "6   1966   4793300\n",
      "7   1967   5403500\n",
      "8   1968   6125200\n",
      "9   1969   6749000\n",
      "10  1970   7359200\n",
      "11  1971   7771700\n",
      "12  1972   7413900\n",
      "13  1973   7842200\n",
      "14  1974   9278700\n",
      "15  1975  10252700\n",
      "16  1976  10345500\n",
      "17  1977   9955000\n",
      "18  1978  10123400\n",
      "19  1979  11041500\n",
      "20  1980  12063700\n",
      "21  1981  12061900\n",
      "22  1982  11652000\n",
      "23  1983  10850500\n",
      "24  1984  10608500\n",
      "25  1985  11102600\n",
      "26  1986  11722700\n",
      "27  1987  12024700\n",
      "28  1988  12356900\n",
      "29  1989  12605400\n",
      "30  1990  12655500\n",
      "31  1991  12961100\n",
      "32  1992  12505900\n",
      "33  1993  12218800\n",
      "34  1994  12131900\n",
      "35  1995  12063900\n",
      "36  1996  11805300\n",
      "37  1997  11558175\n",
      "38  1998  10944590\n",
      "39  1999  10208334\n",
      "40  2000  10182586\n",
      "41  2001  10437480\n",
      "42  2002  10455277\n",
      "43  2003  10442862\n",
      "44  2004  10319386\n",
      "45  2005  10174754\n",
      "46  2006   9983568\n",
      "47  2007   9843481\n",
      "48  2008   9767915\n",
      "49  2009   9337060\n",
      "50  2010   9112625\n",
      "51  2011   9052743\n",
      "52  2012   9001992\n",
      "53  2013   8650761\n",
      "54  2014   8277829\n",
      "1991\n"
     ]
    },
    {
     "data": {
      "application/javascript": "parent.postMessage({\"jupyterEvent\": \"custom.exercise_interaction\", \"data\": {\"outcomeType\": 1, \"valueTowardsCompletion\": 0.05, \"interactionType\": 1, \"questionType\": 1, \"questionId\": \"8_Exercise8\", \"failureMessage\": \"\", \"exceptionClass\": \"\", \"trace\": \"\"}}, \"*\")",
      "text/plain": [
       "<IPython.core.display.Javascript object>"
      ]
     },
     "metadata": {},
     "output_type": "display_data"
    },
    {
     "data": {
      "text/markdown": [
       "<span style=\"color:#33cc33\">Correct</span>"
      ],
      "text/plain": [
       "Correct"
      ]
     },
     "metadata": {},
     "output_type": "display_data"
    }
   ],
   "source": [
    "def exercise_8(df) -> int:\n",
    "    df_copy = df.copy()\n",
    "    print(df_copy[['Year', 'Property']])\n",
    "    max_property = df_copy['Property'].max()\n",
    "    year_max_property = df[df_copy['Property'] == max_property]['Year'].iloc[0]\n",
    "    print(year_max_property)\n",
    "    return year_max_property\n",
    "    #return NotImplementedError\n",
    "\n",
    "ex8_sol = exercise_8(df)\n",
    "q8.check()"
   ]
  },
  {
   "cell_type": "markdown",
   "metadata": {},
   "source": [
    "### Q9: Convert the column Year to type datetime64 and set it as the index column of the DataFrame."
   ]
  },
  {
   "cell_type": "markdown",
   "metadata": {},
   "source": [
    "This question cannot be tested currently using `leartools`, hence the `q9.check()` always ouput as `correct`. Make sure your code works by yourself before submitting to Github."
   ]
  },
  {
   "cell_type": "code",
   "execution_count": 13,
   "metadata": {},
   "outputs": [
    {
     "name": "stdout",
     "output_type": "stream",
     "text": [
      "The answer for this question is undetermined, use the online test instead.\n"
     ]
    },
    {
     "data": {
      "application/javascript": "parent.postMessage({\"jupyterEvent\": \"custom.exercise_interaction\", \"data\": {\"outcomeType\": 1, \"valueTowardsCompletion\": 0.05, \"interactionType\": 1, \"questionType\": 1, \"questionId\": \"9_Exercise9\", \"failureMessage\": \"\", \"exceptionClass\": \"\", \"trace\": \"\"}}, \"*\")",
      "text/plain": [
       "<IPython.core.display.Javascript object>"
      ]
     },
     "metadata": {},
     "output_type": "display_data"
    },
    {
     "data": {
      "text/markdown": [
       "<span style=\"color:#33cc33\">Correct</span>"
      ],
      "text/plain": [
       "Correct"
      ]
     },
     "metadata": {},
     "output_type": "display_data"
    }
   ],
   "source": [
    "def exercise_9(df) -> pd.DataFrame:\n",
    "    df_copy = df.copy()\n",
    "    df_copy['Year'] = pd.to_datetime(df_copy['Year'])\n",
    "    df_copy.set_index('Year', inplace = True)\n",
    "    return df_copy\n",
    "    #return NotImplementedError\n",
    "\n",
    "ex9_sol = exercise_9(df)\n",
    "q9.check()"
   ]
  },
  {
   "cell_type": "markdown",
   "metadata": {},
   "source": [
    "### Q10: Delete any column having \"theft\" in its name (case insensitive). Show the first 10 rows."
   ]
  },
  {
   "cell_type": "code",
   "execution_count": 14,
   "metadata": {},
   "outputs": [
    {
     "name": "stdout",
     "output_type": "stream",
     "text": [
      "   Year  Population    Total  Violent  Property  Murder  Forcible_Rape  \\\n",
      "0  1960   179323175  3384200   288460   3095700    9110          17190   \n",
      "1  1961   182992000  3488000   289390   3198600    8740          17220   \n",
      "2  1962   185771000  3752200   301510   3450700    8530          17550   \n",
      "3  1963   188483000  4109500   316970   3792500    8640          17650   \n",
      "4  1964   191141000  4564600   364220   4200400    9360          21420   \n",
      "5  1965   193526000  4739400   387390   4352000    9960          23410   \n",
      "6  1966   195576000  5223500   430180   4793300   11040          25820   \n",
      "7  1967   197457000  5903400   499930   5403500   12240          27620   \n",
      "8  1968   199399000  6720200   595010   6125200   13800          31670   \n",
      "9  1969   201385000  7410900   661870   6749000   14760          37170   \n",
      "\n",
      "   Robbery  Aggravated_assault  Burglary  \n",
      "0   107840              154320    912100  \n",
      "1   106670              156760    949600  \n",
      "2   110860              164570    994300  \n",
      "3   116470              174210   1086400  \n",
      "4   130390              203050   1213200  \n",
      "5   138690              215330   1282500  \n",
      "6   157990              235330   1410100  \n",
      "7   202910              257160   1632100  \n",
      "8   262840              286700   1858900  \n",
      "9   298850              311090   1981900  \n"
     ]
    },
    {
     "data": {
      "application/javascript": "parent.postMessage({\"jupyterEvent\": \"custom.exercise_interaction\", \"data\": {\"outcomeType\": 1, \"valueTowardsCompletion\": 0.05, \"interactionType\": 1, \"questionType\": 1, \"questionId\": \"10_Exercise10\", \"failureMessage\": \"\", \"exceptionClass\": \"\", \"trace\": \"\"}}, \"*\")",
      "text/plain": [
       "<IPython.core.display.Javascript object>"
      ]
     },
     "metadata": {},
     "output_type": "display_data"
    },
    {
     "data": {
      "text/markdown": [
       "<span style=\"color:#33cc33\">Correct</span>"
      ],
      "text/plain": [
       "Correct"
      ]
     },
     "metadata": {},
     "output_type": "display_data"
    }
   ],
   "source": [
    "ex10_sol = pd.read_csv('answers/q10_answer.csv')\n",
    "#print (ex10_sol)\n",
    "def exercise_10(df) -> pd.DataFrame:\n",
    "    # Specify the string to exclude\n",
    "    df_copy = df.copy()\n",
    "    string_to_exclude = 'Theft'\n",
    "\n",
    "    # Create a new DataFrame with columns not containing the specified string\n",
    "    new_df = df_copy[[col for col in df_copy.columns if string_to_exclude not in col]]\n",
    "    print(new_df.head(10))\n",
    "    return new_df.head(10)\n",
    "    #return NotImplementedErrord\n",
    "\n",
    "\n",
    "ex10_sol = exercise_10(df)\n",
    "q10.check()"
   ]
  },
  {
   "cell_type": "markdown",
   "metadata": {},
   "source": [
    "### Q11: Find the year with the largest percentage increase in total crimes compared to the previous year."
   ]
  },
  {
   "cell_type": "code",
   "execution_count": 15,
   "metadata": {},
   "outputs": [
    {
     "name": "stdout",
     "output_type": "stream",
     "text": [
      "1974\n"
     ]
    },
    {
     "data": {
      "application/javascript": "parent.postMessage({\"jupyterEvent\": \"custom.exercise_interaction\", \"data\": {\"outcomeType\": 1, \"valueTowardsCompletion\": 0.05, \"interactionType\": 1, \"questionType\": 1, \"questionId\": \"11_Exercise11\", \"failureMessage\": \"\", \"exceptionClass\": \"\", \"trace\": \"\"}}, \"*\")",
      "text/plain": [
       "<IPython.core.display.Javascript object>"
      ]
     },
     "metadata": {},
     "output_type": "display_data"
    },
    {
     "data": {
      "text/markdown": [
       "<span style=\"color:#33cc33\">Correct</span>"
      ],
      "text/plain": [
       "Correct"
      ]
     },
     "metadata": {},
     "output_type": "display_data"
    }
   ],
   "source": [
    "def exercise_11(df) -> int:\n",
    "    df_copy = df.copy()\n",
    "    df_copy[\"percentage_change\"] = df[\"Total\"].pct_change() * 100\n",
    "    res = df.loc[df_copy[\"percentage_change\"] == df_copy[\"percentage_change\"].max(), \"Year\"]\n",
    "    print(res.iloc[0])\n",
    "    return res.iloc[0]\n",
    "    #return NotImplementedError\n",
    "\n",
    "ex11_sol = exercise_11(df)\n",
    "q11.check()"
   ]
  },
  {
   "cell_type": "markdown",
   "metadata": {},
   "source": [
    "**Note**: percentage change of 2 numbers A comparing to B is ((A-B)/A) * 100"
   ]
  },
  {
   "cell_type": "markdown",
   "metadata": {},
   "source": [
    "### Q12: Calculate the percentage change in robbery crimes from 1960 to 2014. Round it to the nearest 2 decimal places. "
   ]
  },
  {
   "cell_type": "code",
   "execution_count": 16,
   "metadata": {},
   "outputs": [
    {
     "name": "stdout",
     "output_type": "stream",
     "text": [
      "0     107840\n",
      "1     106670\n",
      "2     110860\n",
      "3     116470\n",
      "4     130390\n",
      "5     138690\n",
      "6     157990\n",
      "7     202910\n",
      "8     262840\n",
      "9     298850\n",
      "10    349860\n",
      "11    387700\n",
      "12    376290\n",
      "13    384220\n",
      "14    442400\n",
      "15    470500\n",
      "16    427810\n",
      "17    412610\n",
      "18    426930\n",
      "19    480700\n",
      "20    565840\n",
      "21    592910\n",
      "22    553130\n",
      "23    506570\n",
      "24    485010\n",
      "25    497870\n",
      "26    542775\n",
      "27    517704\n",
      "28    542970\n",
      "29    578330\n",
      "30    639270\n",
      "31    687730\n",
      "32    672480\n",
      "33    659870\n",
      "34    618950\n",
      "35    580510\n",
      "36    535590\n",
      "37    498534\n",
      "38    446625\n",
      "39    409371\n",
      "40    408016\n",
      "41    423557\n",
      "42    420806\n",
      "43    414235\n",
      "44    401470\n",
      "45    417438\n",
      "46    447403\n",
      "47    445125\n",
      "48    443574\n",
      "49    408742\n",
      "50    369089\n",
      "51    354772\n",
      "52    355051\n",
      "53    345095\n",
      "54    325802\n",
      "Name: Robbery_year, dtype: int64\n",
      "107840 325802\n",
      "202.12\n"
     ]
    },
    {
     "data": {
      "application/javascript": "parent.postMessage({\"jupyterEvent\": \"custom.exercise_interaction\", \"data\": {\"outcomeType\": 1, \"valueTowardsCompletion\": 0.05, \"interactionType\": 1, \"questionType\": 1, \"questionId\": \"12_Exercise12\", \"failureMessage\": \"\", \"exceptionClass\": \"\", \"trace\": \"\"}}, \"*\")",
      "text/plain": [
       "<IPython.core.display.Javascript object>"
      ]
     },
     "metadata": {},
     "output_type": "display_data"
    },
    {
     "data": {
      "text/markdown": [
       "<span style=\"color:#33cc33\">Correct</span>"
      ],
      "text/plain": [
       "Correct"
      ]
     },
     "metadata": {},
     "output_type": "display_data"
    }
   ],
   "source": [
    "def exercise_12(df) -> float:\n",
    "    df_copy = df.copy()\n",
    "    \n",
    "    df_copy['Robbery_year'] = df.loc[(df_copy['Year'] >= 1960) & (df_copy['Year'] <= 2014), 'Robbery']\n",
    "    Robbery_1960 = df_copy['Robbery_year'].iloc[0]\n",
    "    Robbery_2014 = df_copy['Robbery_year'].iloc[-1]\n",
    "    print(df_copy['Robbery_year'])\n",
    "    \n",
    "    #print(df_copy['Robbery_year'])\n",
    "    #print(df_copy['percentage_change_robbery'])\n",
    "    print(Robbery_1960, Robbery_2014)\n",
    "    \n",
    "    percentage_change_robbery = round((((abs(Robbery_1960 - Robbery_2014)) / Robbery_1960) * 100), 2)\n",
    "    print(percentage_change_robbery)\n",
    "    return percentage_change_robbery\n",
    "    # return NotImplementedError\n",
    "\n",
    "ex12_sol = exercise_12(df)\n",
    "q12.check()"
   ]
  },
  {
   "cell_type": "markdown",
   "metadata": {},
   "source": [
    "## Instructions for dataset 3\n",
    "Get your data at [https://drive.google.com/file/d/1a63cns5w2gOTITIGHy3aipRHua9XJmgz/view](https://drive.google.com/file/d/1a63cns5w2gOTITIGHy3aipRHua9XJmgz/view), which is a subset of the Kaggle Open Food Facts Dataset, and change the path to your downloaded file. Store it as a `Dataframe` in a variable for your answers later. Loading a dataset this large could generate a warning regarding the `dtype` of some columns. Set the option `low_memory=False` to suppress the warning. Ensure the \"code\" column is your index column and has type `str`. "
   ]
  },
  {
   "cell_type": "code",
   "execution_count": 17,
   "metadata": {},
   "outputs": [
    {
     "name": "stderr",
     "output_type": "stream",
     "text": [
      "/tmp/ipykernel_11416/3651958102.py:2: DtypeWarning: Columns (8,9,10,11,17,18,19,20,21,22,23,24,25,26,28,29,30,35,37,38,39,48,61,62) have mixed types. Specify dtype option on import or set low_memory=False.\n",
      "  df = pd.read_csv('/workspaces/lab-2-pandas-thienista/open-food-facts.csv')\n"
     ]
    }
   ],
   "source": [
    "# reading and storing in this cell\n",
    "df = pd.read_csv('/workspaces/lab-2-pandas-thienista/open-food-facts.csv') \n",
    "\n",
    "# remember to comment out or delete the code reading the dataset before pushing"
   ]
  },
  {
   "cell_type": "markdown",
   "metadata": {},
   "source": [
    "## Questions"
   ]
  },
  {
   "cell_type": "markdown",
   "metadata": {},
   "source": [
    "### Q13: How many unique products are available in the dataset?"
   ]
  },
  {
   "cell_type": "code",
   "execution_count": 18,
   "metadata": {},
   "outputs": [
    {
     "name": "stdout",
     "output_type": "stream",
     "text": [
      "              code                                                url  \\\n",
      "0             3087  http://world-en.openfoodfacts.org/product/0000...   \n",
      "1             4530  http://world-en.openfoodfacts.org/product/0000...   \n",
      "2             4559  http://world-en.openfoodfacts.org/product/0000...   \n",
      "3            16087  http://world-en.openfoodfacts.org/product/0000...   \n",
      "4            16094  http://world-en.openfoodfacts.org/product/0000...   \n",
      "...            ...                                                ...   \n",
      "49995  41497255924  http://world-en.openfoodfacts.org/product/0041...   \n",
      "49996  41497256679  http://world-en.openfoodfacts.org/product/0041...   \n",
      "49997  41497256686  http://world-en.openfoodfacts.org/product/0041...   \n",
      "49998  41497256693  http://world-en.openfoodfacts.org/product/0041...   \n",
      "49999  41497256709  http://world-en.openfoodfacts.org/product/0041...   \n",
      "\n",
      "                          creator   created_t     created_datetime  \\\n",
      "0      openfoodfacts-contributors  1474103866  2016-09-17 09:17:46   \n",
      "1                 usda-ndb-import  1489069957  2017-03-09 14:32:37   \n",
      "2                 usda-ndb-import  1489069957  2017-03-09 14:32:37   \n",
      "3                 usda-ndb-import  1489055731  2017-03-09 10:35:31   \n",
      "4                 usda-ndb-import  1489055653  2017-03-09 10:34:13   \n",
      "...                           ...         ...                  ...   \n",
      "49995             usda-ndb-import  1489142521  2017-03-10 10:42:01   \n",
      "49996             usda-ndb-import  1489142253  2017-03-10 10:37:33   \n",
      "49997             usda-ndb-import  1489142253  2017-03-10 10:37:33   \n",
      "49998             usda-ndb-import  1489142254  2017-03-10 10:37:34   \n",
      "49999             usda-ndb-import  1489142241  2017-03-10 10:37:21   \n",
      "\n",
      "       last_modified_t last_modified_datetime  \\\n",
      "0           1474103893    2016-09-17 09:18:13   \n",
      "1           1489069957    2017-03-09 14:32:37   \n",
      "2           1489069957    2017-03-09 14:32:37   \n",
      "3           1489055731    2017-03-09 10:35:31   \n",
      "4           1489055653    2017-03-09 10:34:13   \n",
      "...                ...                    ...   \n",
      "49995       1489142521    2017-03-10 10:42:01   \n",
      "49996       1489142253    2017-03-10 10:37:33   \n",
      "49997       1489142253    2017-03-10 10:37:33   \n",
      "49998       1489142254    2017-03-10 10:37:34   \n",
      "49999       1489142241    2017-03-10 10:37:21   \n",
      "\n",
      "                                            product_name generic_name  \\\n",
      "0                                     Farine de blé noir          NaN   \n",
      "1                         Banana Chips Sweetened (Whole)          NaN   \n",
      "2                                                Peanuts          NaN   \n",
      "3                                 Organic Salted Nut Mix          NaN   \n",
      "4                                        Organic Polenta          NaN   \n",
      "...                                                  ...          ...   \n",
      "49995                            100% Juice, Prune Juice          NaN   \n",
      "49996                                   100% Juice Blend          NaN   \n",
      "49997  Cranberry Apple Flavored Juice Blended With On...          NaN   \n",
      "49998                  Cranberry Grape, 100% Juice Blend          NaN   \n",
      "49999  100% Juice Reconstituted Lemon Juice With Adde...          NaN   \n",
      "\n",
      "      quantity  ... fruits-vegetables-nuts_100g  \\\n",
      "0          1kg  ...                         NaN   \n",
      "1          NaN  ...                         NaN   \n",
      "2          NaN  ...                         NaN   \n",
      "3          NaN  ...                         NaN   \n",
      "4          NaN  ...                         NaN   \n",
      "...        ...  ...                         ...   \n",
      "49995      NaN  ...                         NaN   \n",
      "49996      NaN  ...                         NaN   \n",
      "49997      NaN  ...                         NaN   \n",
      "49998      NaN  ...                         NaN   \n",
      "49999      NaN  ...                         NaN   \n",
      "\n",
      "      fruits-vegetables-nuts-estimate_100g collagen-meat-protein-ratio_100g  \\\n",
      "0                                      NaN                              NaN   \n",
      "1                                      NaN                              NaN   \n",
      "2                                      NaN                              NaN   \n",
      "3                                      NaN                              NaN   \n",
      "4                                      NaN                              NaN   \n",
      "...                                    ...                              ...   \n",
      "49995                                  NaN                              NaN   \n",
      "49996                                  NaN                              NaN   \n",
      "49997                                  NaN                              NaN   \n",
      "49998                                  NaN                              NaN   \n",
      "49999                                  NaN                              NaN   \n",
      "\n",
      "      cocoa_100g chlorophyl_100g carbon-footprint_100g  \\\n",
      "0            NaN             NaN                   NaN   \n",
      "1            NaN             NaN                   NaN   \n",
      "2            NaN             NaN                   NaN   \n",
      "3            NaN             NaN                   NaN   \n",
      "4            NaN             NaN                   NaN   \n",
      "...          ...             ...                   ...   \n",
      "49995        NaN             NaN                   NaN   \n",
      "49996        NaN             NaN                   NaN   \n",
      "49997        NaN             NaN                   NaN   \n",
      "49998        NaN             NaN                   NaN   \n",
      "49999        NaN             NaN                   NaN   \n",
      "\n",
      "      nutrition-score-fr_100g nutrition-score-uk_100g glycemic-index_100g  \\\n",
      "0                         NaN                     NaN                 NaN   \n",
      "1                        14.0                    14.0                 NaN   \n",
      "2                         0.0                     0.0                 NaN   \n",
      "3                        12.0                    12.0                 NaN   \n",
      "4                         NaN                     NaN                 NaN   \n",
      "...                       ...                     ...                 ...   \n",
      "49995                     0.0                     0.0                 NaN   \n",
      "49996                     3.0                     3.0                 NaN   \n",
      "49997                     2.0                     2.0                 NaN   \n",
      "49998                     3.0                     3.0                 NaN   \n",
      "49999                     NaN                     NaN                 NaN   \n",
      "\n",
      "      water-hardness_100g  \n",
      "0                     NaN  \n",
      "1                     NaN  \n",
      "2                     NaN  \n",
      "3                     NaN  \n",
      "4                     NaN  \n",
      "...                   ...  \n",
      "49995                 NaN  \n",
      "49996                 NaN  \n",
      "49997                 NaN  \n",
      "49998                 NaN  \n",
      "49999                 NaN  \n",
      "\n",
      "[50000 rows x 163 columns]\n",
      "33701\n"
     ]
    },
    {
     "data": {
      "application/javascript": "parent.postMessage({\"jupyterEvent\": \"custom.exercise_interaction\", \"data\": {\"outcomeType\": 1, \"valueTowardsCompletion\": 0.05, \"interactionType\": 1, \"questionType\": 1, \"questionId\": \"13_Exercise13\", \"failureMessage\": \"\", \"exceptionClass\": \"\", \"trace\": \"\"}}, \"*\")",
      "text/plain": [
       "<IPython.core.display.Javascript object>"
      ]
     },
     "metadata": {},
     "output_type": "display_data"
    },
    {
     "data": {
      "text/markdown": [
       "<span style=\"color:#33cc33\">Correct</span>"
      ],
      "text/plain": [
       "Correct"
      ]
     },
     "metadata": {},
     "output_type": "display_data"
    }
   ],
   "source": [
    "print(df)\n",
    "def exercise_13(df) -> int:\n",
    "    df_copy = df.copy()\n",
    "    unique_product = df_copy[\"product_name\"].nunique()\n",
    "    print(unique_product)\n",
    "    return (unique_product)\n",
    "    #return NotImplementedError\n",
    "\n",
    "ex13_sol = exercise_13(df)\n",
    "q13.check()"
   ]
  },
  {
   "cell_type": "markdown",
   "metadata": {},
   "source": [
    "### Q14: Find the percentage of missing values in each column. Round your results to the nearest 2 decimal places."
   ]
  },
  {
   "cell_type": "code",
   "execution_count": 19,
   "metadata": {},
   "outputs": [
    {
     "name": "stdout",
     "output_type": "stream",
     "text": [
      "url                          0.00\n",
      "creator                      0.00\n",
      "created_t                    0.00\n",
      "created_datetime             0.00\n",
      "last_modified_t              0.00\n",
      "                            ...  \n",
      "carbon-footprint_100g      100.00\n",
      "nutrition-score-fr_100g     21.44\n",
      "nutrition-score-uk_100g     21.44\n",
      "glycemic-index_100g        100.00\n",
      "water-hardness_100g        100.00\n",
      "Length: 162, dtype: float64\n"
     ]
    },
    {
     "data": {
      "application/javascript": "parent.postMessage({\"jupyterEvent\": \"custom.exercise_interaction\", \"data\": {\"outcomeType\": 1, \"valueTowardsCompletion\": 0.05, \"interactionType\": 1, \"questionType\": 1, \"questionId\": \"14_Exercise14\", \"failureMessage\": \"\", \"exceptionClass\": \"\", \"trace\": \"\"}}, \"*\")",
      "text/plain": [
       "<IPython.core.display.Javascript object>"
      ]
     },
     "metadata": {},
     "output_type": "display_data"
    },
    {
     "data": {
      "text/markdown": [
       "<span style=\"color:#33cc33\">Correct</span>"
      ],
      "text/plain": [
       "Correct"
      ]
     },
     "metadata": {},
     "output_type": "display_data"
    }
   ],
   "source": [
    "def exercise_14(df) -> pd.Series:\n",
    "    df_copy = df.copy()\n",
    "    occurence = df_copy.isna().mean() * 100\n",
    "    print(round(occurence[1:], 2))\n",
    "    return round(occurence[1:], 2)\n",
    "    #return NotImplementedError\n",
    "\n",
    "ex14_sol = exercise_14(df)\n",
    "q14.check()"
   ]
  },
  {
   "cell_type": "markdown",
   "metadata": {},
   "source": [
    "### Q15: Identify the top 5 manufacturers (\"brands\") based on the number of unique products."
   ]
  },
  {
   "cell_type": "code",
   "execution_count": 20,
   "metadata": {},
   "outputs": [
    {
     "name": "stdout",
     "output_type": "stream",
     "text": [
      "brands\n",
      "Kroger       1631\n",
      "Roundy's     1280\n",
      "Spartan      1209\n",
      "Shoprite      914\n",
      "Food Club     828\n",
      "Name: count, dtype: int64\n",
      "brands\n",
      "Kroger       1435\n",
      "Roundy's     1106\n",
      "Spartan       977\n",
      "Shoprite      764\n",
      "Food Club     710\n",
      "Name: product_name, dtype: int64\n"
     ]
    },
    {
     "data": {
      "application/javascript": "parent.postMessage({\"jupyterEvent\": \"custom.exercise_interaction\", \"data\": {\"outcomeType\": 2, \"failureMessage\": \"Incorrect value for `ex15_sol`\", \"interactionType\": 1, \"questionType\": 1, \"questionId\": \"15_Exercise15\", \"valueTowardsCompletion\": 0.0, \"exceptionClass\": \"\", \"trace\": \"\"}}, \"*\")",
      "text/plain": [
       "<IPython.core.display.Javascript object>"
      ]
     },
     "metadata": {},
     "output_type": "display_data"
    },
    {
     "data": {
      "text/markdown": [
       "<span style=\"color:#cc3333\">Incorrect:</span> Incorrect value for `ex15_sol`"
      ],
      "text/plain": [
       "Incorrect: Incorrect value for `ex15_sol`"
      ]
     },
     "metadata": {},
     "output_type": "display_data"
    }
   ],
   "source": [
    "ex15_sol = pd.read_csv('answers/q15_answer.csv', index_col=0).squeeze()\n",
    "print(ex15_sol)\n",
    "def exercise_15(df) -> pd.Series:\n",
    "    df_copy = df.copy()\n",
    "    num_unique_prod = df_copy.groupby('brands')['product_name'].nunique()\n",
    "    #print(num_unique_prod)\n",
    "    top5_unique_prod = num_unique_prod.sort_values(ascending = False).head(5)\n",
    "    print(top5_unique_prod)\n",
    "    return (top5_unique_prod)\n",
    "    #return NotImplementedError\n",
    "\n",
    "ex15_sol = exercise_15(df)\n",
    "q15.check()"
   ]
  },
  {
   "cell_type": "markdown",
   "metadata": {},
   "source": [
    "Q16: Find the most common food additives used in products across all countries.### "
   ]
  },
  {
   "cell_type": "code",
   "execution_count": 21,
   "metadata": {},
   "outputs": [
    {
     "name": "stdout",
     "output_type": "stream",
     "text": [
      "\n",
      "My work: \n",
      "additives\n",
      "[ semolina -> en:semolina  ]  [ wheat -> en:wheat  ]  [ durum-flour -> en:durum-flour  ]  [ flour -> en:flour  ]  [ wheat -> en:wheat  ]  [ niacin -> en:e375  -> exists  -- ok  ]  [ ferrous-sulfate -> en:ferrous-sulfate  ]  [ sulfate -> en:sulfate  ]  [ iron -> en:iron  ]  [ thiamin-mononitrate -> en:thiamin-mononitrate  ]  [ mononitrate -> en:mononitrate  ]  [ riboflavin -> en:e101i  -> exists  -- ok  ]  [ folic-acid -> en:folic-acid  ]  [ acid -> en:acid  ]    135\n",
      "[ extra-virgin-olive-oil -> en:extra-virgin-olive-oil  ]  [ virgin-olive-oil -> en:virgin-olive-oil  ]  [ olive-oil -> en:olive-oil  ]  [ oil -> en:oil  ]                                                                                                                                                                                                                                                                                                                         118\n",
      "[ carbonated-water -> en:carbonated-water  ]  [ water -> en:water  ]  [ natural-flavor -> en:natural-flavor  ]  [ flavor -> en:flavor  ]                                                                                                                                                                                                                                                                                                                                           111\n",
      "[ green-beans -> en:green-beans  ]  [ beans -> en:beans  ]  [ water -> en:water  ]  [ salt -> en:salt  ]                                                                                                                                                                                                                                                                                                                                                                            82\n",
      "[ almonds -> en:almonds  ]                                                                                                                                                                                                                                                                                                                                                                                                                                                          72\n",
      "[ semolina -> en:semolina  ]  [ niacin -> en:e375  -> exists  -- ok  ]  [ ferrous-sulfate -> en:ferrous-sulfate  ]  [ sulfate -> en:sulfate  ]  [ iron -> en:iron  ]  [ thiamin-mononitrate -> en:thiamin-mononitrate  ]  [ mononitrate -> en:mononitrate  ]  [ riboflavin -> en:e101i  -> exists  -- ok  ]  [ folic-acid -> en:folic-acid  ]  [ acid -> en:acid  ]                                                                                                                 72\n",
      "[ pasteurized-milk -> en:pasteurized-milk  ]  [ milk -> en:milk  ]  [ cheese-culture -> en:cheese-culture  ]  [ culture -> en:culture  ]  [ salt -> en:salt  ]  [ enzymes-and-annatto -> en:enzymes-and-annatto  ]  [ and-annatto -> en:and-annatto  ]  [ annatto -> en:e160b  -> exists  -- ok  ]  [ vegetable-color -> en:vegetable-color  ]  [ color -> en:colour  ]                                                                                                             65\n",
      "[ broccoli -> en:broccoli  ]                                                                                                                                                                                                                                                                                                                                                                                                                                                        64\n",
      "[ soybean-oil -> en:soybean-oil  ]  [ oil -> en:oil  ]                                                                                                                                                                                                                                                                                                                                                                                                                              64\n",
      "[ honey -> en:honey  ]                                                                                                                                                                                                                                                                                                                                                                                                                                                              62\n",
      "Name: count, dtype: int64\n"
     ]
    },
    {
     "data": {
      "application/javascript": "parent.postMessage({\"jupyterEvent\": \"custom.exercise_interaction\", \"data\": {\"outcomeType\": 1, \"valueTowardsCompletion\": 0.05, \"interactionType\": 1, \"questionType\": 1, \"questionId\": \"16_Exercise16\", \"failureMessage\": \"\", \"exceptionClass\": \"\", \"trace\": \"\"}}, \"*\")",
      "text/plain": [
       "<IPython.core.display.Javascript object>"
      ]
     },
     "metadata": {},
     "output_type": "display_data"
    },
    {
     "data": {
      "text/markdown": [
       "<span style=\"color:#33cc33\">Correct</span>"
      ],
      "text/plain": [
       "Correct"
      ]
     },
     "metadata": {},
     "output_type": "display_data"
    }
   ],
   "source": [
    "ex16_sol = pd.read_csv('answers/q16_answer.csv', index_col=0).squeeze()\n",
    "#print(ex16_sol)\n",
    "print('\\nMy work: ')\n",
    "def exercise_16(df) -> pd.Series:\n",
    "    df_copy = df.copy()\n",
    "    df_copy = df_copy.dropna(subset=['additives'])\n",
    "    #print(df_copy['additives'])\n",
    "\n",
    "    top_additives =df_copy['additives'].value_counts()\n",
    "\n",
    "    print(top_additives.head(10))\n",
    "    return top_additives.head(10)\n",
    "    #return NotImplementedError\n",
    "\n",
    "ex16_sol = exercise_16(df)\n",
    "q16.check()"
   ]
  },
  {
   "cell_type": "markdown",
   "metadata": {},
   "source": [
    "### Q17: Calculate the average \"saturated-fat_100g\" of all products containing \"palm oil\" and all products that don't. Return a DataFrame with 2 columns \"contains_palm_oil\" and \"no_palm_oil\" listing your results. Round your result to the nearest 2 decimal places."
   ]
  },
  {
   "cell_type": "code",
   "execution_count": 22,
   "metadata": {},
   "outputs": [
    {
     "name": "stdout",
     "output_type": "stream",
     "text": [
      "   contains_palm_oil  no_palm_oil\n",
      "0               7.67         4.46\n",
      "   contains_palm_oil  no_palm_oil\n",
      "0               7.67         4.46\n"
     ]
    },
    {
     "data": {
      "application/javascript": "parent.postMessage({\"jupyterEvent\": \"custom.exercise_interaction\", \"data\": {\"outcomeType\": 1, \"valueTowardsCompletion\": 0.05, \"interactionType\": 1, \"questionType\": 1, \"questionId\": \"17_Exercise17\", \"failureMessage\": \"\", \"exceptionClass\": \"\", \"trace\": \"\"}}, \"*\")",
      "text/plain": [
       "<IPython.core.display.Javascript object>"
      ]
     },
     "metadata": {},
     "output_type": "display_data"
    },
    {
     "data": {
      "text/markdown": [
       "<span style=\"color:#33cc33\">Correct</span>"
      ],
      "text/plain": [
       "Correct"
      ]
     },
     "metadata": {},
     "output_type": "display_data"
    }
   ],
   "source": [
    "ex17_sol = pd.read_csv('answers/q17_answer.csv', index_col=0)\n",
    "print(ex17_sol)\n",
    "def exercise_17(df) -> pd.DataFrame:\n",
    "    df_copy = df.copy()\n",
    "    #df_copy = df_copy.dropna(subset = ['saturated-fat_100g', 'ingredients_text'])\n",
    "    #print(df_copy['saturated-fat_100g'])\n",
    "\n",
    "    contains_palm_oil = df_copy['ingredients_text'].str.contains('palm oil', case = False, na = False)\n",
    "    no_palm = ~contains_palm_oil\n",
    "\n",
    "    # Tính trung bình\n",
    "    avg_contains = df_copy[contains_palm_oil]['saturated-fat_100g'].mean()\n",
    "    avg_no = df_copy[no_palm]['saturated-fat_100g'].mean()\n",
    "\n",
    "    # Làm tròn\n",
    "    avg_contains = round(avg_contains, 2)\n",
    "    avg_no = round(avg_no, 2)\n",
    "\n",
    "    # Tạo DataFrame kết quả\n",
    "    result = pd.DataFrame({\n",
    "        'contains_palm_oil': [avg_contains],\n",
    "        'no_palm_oil': [avg_no]\n",
    "    })\n",
    "\n",
    "    print(result)\n",
    "    return result\n",
    "\n",
    "ex17_sol = exercise_17(df)\n",
    "q17.check()"
   ]
  },
  {
   "cell_type": "markdown",
   "metadata": {},
   "source": [
    "### Q18: Create a pivot table showing the average carbohydrate content ('carbohydrates_100g') for each food category across different countries."
   ]
  },
  {
   "cell_type": "markdown",
   "metadata": {},
   "source": [
    "This question cannot be tested currently using `leartools`, hence the `q18.check()` always ouput as `correct`. Make sure your code works by yourself before submitting to Github."
   ]
  },
  {
   "cell_type": "code",
   "execution_count": 23,
   "metadata": {},
   "outputs": [
    {
     "name": "stdout",
     "output_type": "stream",
     "text": [
      "countries_en                                        Australia  \\\n",
      "categories_en                                                   \n",
      "Aceite-de-coco                                            NaN   \n",
      "Baked-beans                                               NaN   \n",
      "Balsamic-vinaigrette-dressing                             NaN   \n",
      "Banana-nut-loaf                                           NaN   \n",
      "Barbeque-sauce,Steak-sauce                               47.0   \n",
      "...                                                       ...   \n",
      "Whole-wheat-tortillas,Tortillas,Wheat-tortillas           NaN   \n",
      "fr:Boulange                                               NaN   \n",
      "fr:Flapjack                                               NaN   \n",
      "fr:Gateaux-roules,fr:Genoises,fr:Roules-a-la-fr...        NaN   \n",
      "fr:Pain-a-l-ail                                           NaN   \n",
      "\n",
      "countries_en                                        Australia,United States  \\\n",
      "categories_en                                                                 \n",
      "Aceite-de-coco                                                          NaN   \n",
      "Baked-beans                                                             NaN   \n",
      "Balsamic-vinaigrette-dressing                                           NaN   \n",
      "Banana-nut-loaf                                                         NaN   \n",
      "Barbeque-sauce,Steak-sauce                                              NaN   \n",
      "...                                                                     ...   \n",
      "Whole-wheat-tortillas,Tortillas,Wheat-tortillas                         NaN   \n",
      "fr:Boulange                                                             NaN   \n",
      "fr:Flapjack                                                             NaN   \n",
      "fr:Gateaux-roules,fr:Genoises,fr:Roules-a-la-fr...                      NaN   \n",
      "fr:Pain-a-l-ail                                                         NaN   \n",
      "\n",
      "countries_en                                        Belgium,France  \\\n",
      "categories_en                                                        \n",
      "Aceite-de-coco                                                 NaN   \n",
      "Baked-beans                                                    NaN   \n",
      "Balsamic-vinaigrette-dressing                                  NaN   \n",
      "Banana-nut-loaf                                                NaN   \n",
      "Barbeque-sauce,Steak-sauce                                     NaN   \n",
      "...                                                            ...   \n",
      "Whole-wheat-tortillas,Tortillas,Wheat-tortillas                NaN   \n",
      "fr:Boulange                                                    NaN   \n",
      "fr:Flapjack                                                    NaN   \n",
      "fr:Gateaux-roules,fr:Genoises,fr:Roules-a-la-fr...             NaN   \n",
      "fr:Pain-a-l-ail                                                NaN   \n",
      "\n",
      "countries_en                                        Belgium,France,Netherlands,United Kingdom  \\\n",
      "categories_en                                                                                   \n",
      "Aceite-de-coco                                                                            NaN   \n",
      "Baked-beans                                                                               NaN   \n",
      "Balsamic-vinaigrette-dressing                                                             NaN   \n",
      "Banana-nut-loaf                                                                           NaN   \n",
      "Barbeque-sauce,Steak-sauce                                                                NaN   \n",
      "...                                                                                       ...   \n",
      "Whole-wheat-tortillas,Tortillas,Wheat-tortillas                                           NaN   \n",
      "fr:Boulange                                                                               NaN   \n",
      "fr:Flapjack                                                                               NaN   \n",
      "fr:Gateaux-roules,fr:Genoises,fr:Roules-a-la-fr...                                        NaN   \n",
      "fr:Pain-a-l-ail                                                                           NaN   \n",
      "\n",
      "countries_en                                        Belgium,Switzerland  \\\n",
      "categories_en                                                             \n",
      "Aceite-de-coco                                                      NaN   \n",
      "Baked-beans                                                         NaN   \n",
      "Balsamic-vinaigrette-dressing                                       NaN   \n",
      "Banana-nut-loaf                                                     NaN   \n",
      "Barbeque-sauce,Steak-sauce                                          NaN   \n",
      "...                                                                 ...   \n",
      "Whole-wheat-tortillas,Tortillas,Wheat-tortillas                     NaN   \n",
      "fr:Boulange                                                         NaN   \n",
      "fr:Flapjack                                                         NaN   \n",
      "fr:Gateaux-roules,fr:Genoises,fr:Roules-a-la-fr...                  NaN   \n",
      "fr:Pain-a-l-ail                                                     NaN   \n",
      "\n",
      "countries_en                                        Canada  Canada,France  \\\n",
      "categories_en                                                               \n",
      "Aceite-de-coco                                         NaN            NaN   \n",
      "Baked-beans                                            NaN            NaN   \n",
      "Balsamic-vinaigrette-dressing                          NaN            NaN   \n",
      "Banana-nut-loaf                                        NaN            NaN   \n",
      "Barbeque-sauce,Steak-sauce                             NaN            NaN   \n",
      "...                                                    ...            ...   \n",
      "Whole-wheat-tortillas,Tortillas,Wheat-tortillas        NaN            NaN   \n",
      "fr:Boulange                                           53.3            NaN   \n",
      "fr:Flapjack                                            NaN            NaN   \n",
      "fr:Gateaux-roules,fr:Genoises,fr:Roules-a-la-fr...     NaN            NaN   \n",
      "fr:Pain-a-l-ail                                        NaN            NaN   \n",
      "\n",
      "countries_en                                        Canada,France,Switzerland,United States  \\\n",
      "categories_en                                                                                 \n",
      "Aceite-de-coco                                                                          NaN   \n",
      "Baked-beans                                                                             NaN   \n",
      "Balsamic-vinaigrette-dressing                                                           NaN   \n",
      "Banana-nut-loaf                                                                         NaN   \n",
      "Barbeque-sauce,Steak-sauce                                                              NaN   \n",
      "...                                                                                     ...   \n",
      "Whole-wheat-tortillas,Tortillas,Wheat-tortillas                                         NaN   \n",
      "fr:Boulange                                                                             NaN   \n",
      "fr:Flapjack                                                                             NaN   \n",
      "fr:Gateaux-roules,fr:Genoises,fr:Roules-a-la-fr...                                      NaN   \n",
      "fr:Pain-a-l-ail                                                                         NaN   \n",
      "\n",
      "countries_en                                        Canada,United States  \\\n",
      "categories_en                                                              \n",
      "Aceite-de-coco                                                       NaN   \n",
      "Baked-beans                                                          NaN   \n",
      "Balsamic-vinaigrette-dressing                                        NaN   \n",
      "Banana-nut-loaf                                                      NaN   \n",
      "Barbeque-sauce,Steak-sauce                                           NaN   \n",
      "...                                                                  ...   \n",
      "Whole-wheat-tortillas,Tortillas,Wheat-tortillas                      NaN   \n",
      "fr:Boulange                                                          NaN   \n",
      "fr:Flapjack                                                          NaN   \n",
      "fr:Gateaux-roules,fr:Genoises,fr:Roules-a-la-fr...                   NaN   \n",
      "fr:Pain-a-l-ail                                                      NaN   \n",
      "\n",
      "countries_en                                        Cuba  ...  Netherlands  \\\n",
      "categories_en                                             ...                \n",
      "Aceite-de-coco                                       NaN  ...          NaN   \n",
      "Baked-beans                                          NaN  ...          NaN   \n",
      "Balsamic-vinaigrette-dressing                        NaN  ...          NaN   \n",
      "Banana-nut-loaf                                      NaN  ...          NaN   \n",
      "Barbeque-sauce,Steak-sauce                           NaN  ...          NaN   \n",
      "...                                                  ...  ...          ...   \n",
      "Whole-wheat-tortillas,Tortillas,Wheat-tortillas      NaN  ...          NaN   \n",
      "fr:Boulange                                          NaN  ...          NaN   \n",
      "fr:Flapjack                                          NaN  ...          NaN   \n",
      "fr:Gateaux-roules,fr:Genoises,fr:Roules-a-la-fr...   NaN  ...          NaN   \n",
      "fr:Pain-a-l-ail                                      NaN  ...          NaN   \n",
      "\n",
      "countries_en                                        Netherlands,United States  \\\n",
      "categories_en                                                                   \n",
      "Aceite-de-coco                                                            NaN   \n",
      "Baked-beans                                                               NaN   \n",
      "Balsamic-vinaigrette-dressing                                             NaN   \n",
      "Banana-nut-loaf                                                           NaN   \n",
      "Barbeque-sauce,Steak-sauce                                                NaN   \n",
      "...                                                                       ...   \n",
      "Whole-wheat-tortillas,Tortillas,Wheat-tortillas                           NaN   \n",
      "fr:Boulange                                                               NaN   \n",
      "fr:Flapjack                                                               NaN   \n",
      "fr:Gateaux-roules,fr:Genoises,fr:Roules-a-la-fr...                        NaN   \n",
      "fr:Pain-a-l-ail                                                           NaN   \n",
      "\n",
      "countries_en                                        Saudi Arabia  Serbia  \\\n",
      "categories_en                                                              \n",
      "Aceite-de-coco                                               NaN     NaN   \n",
      "Baked-beans                                                  NaN     NaN   \n",
      "Balsamic-vinaigrette-dressing                                NaN     NaN   \n",
      "Banana-nut-loaf                                              NaN     NaN   \n",
      "Barbeque-sauce,Steak-sauce                                   NaN     NaN   \n",
      "...                                                          ...     ...   \n",
      "Whole-wheat-tortillas,Tortillas,Wheat-tortillas              NaN     NaN   \n",
      "fr:Boulange                                                  NaN     NaN   \n",
      "fr:Flapjack                                                  NaN     NaN   \n",
      "fr:Gateaux-roules,fr:Genoises,fr:Roules-a-la-fr...           NaN     NaN   \n",
      "fr:Pain-a-l-ail                                              NaN     NaN   \n",
      "\n",
      "countries_en                                        Spain  \\\n",
      "categories_en                                               \n",
      "Aceite-de-coco                                        NaN   \n",
      "Baked-beans                                           NaN   \n",
      "Balsamic-vinaigrette-dressing                         NaN   \n",
      "Banana-nut-loaf                                       NaN   \n",
      "Barbeque-sauce,Steak-sauce                            NaN   \n",
      "...                                                   ...   \n",
      "Whole-wheat-tortillas,Tortillas,Wheat-tortillas       NaN   \n",
      "fr:Boulange                                           NaN   \n",
      "fr:Flapjack                                           NaN   \n",
      "fr:Gateaux-roules,fr:Genoises,fr:Roules-a-la-fr...    NaN   \n",
      "fr:Pain-a-l-ail                                       NaN   \n",
      "\n",
      "countries_en                                        Spain,United Kingdom,Scotland  \\\n",
      "categories_en                                                                       \n",
      "Aceite-de-coco                                                                NaN   \n",
      "Baked-beans                                                                   NaN   \n",
      "Balsamic-vinaigrette-dressing                                                 NaN   \n",
      "Banana-nut-loaf                                                               NaN   \n",
      "Barbeque-sauce,Steak-sauce                                                    NaN   \n",
      "...                                                                           ...   \n",
      "Whole-wheat-tortillas,Tortillas,Wheat-tortillas                               NaN   \n",
      "fr:Boulange                                                                   NaN   \n",
      "fr:Flapjack                                                                   NaN   \n",
      "fr:Gateaux-roules,fr:Genoises,fr:Roules-a-la-fr...                            NaN   \n",
      "fr:Pain-a-l-ail                                                               NaN   \n",
      "\n",
      "countries_en                                        Spain,United States  \\\n",
      "categories_en                                                             \n",
      "Aceite-de-coco                                                      NaN   \n",
      "Baked-beans                                                         NaN   \n",
      "Balsamic-vinaigrette-dressing                                       NaN   \n",
      "Banana-nut-loaf                                                     NaN   \n",
      "Barbeque-sauce,Steak-sauce                                          NaN   \n",
      "...                                                                 ...   \n",
      "Whole-wheat-tortillas,Tortillas,Wheat-tortillas                     NaN   \n",
      "fr:Boulange                                                         NaN   \n",
      "fr:Flapjack                                                         NaN   \n",
      "fr:Gateaux-roules,fr:Genoises,fr:Roules-a-la-fr...                  NaN   \n",
      "fr:Pain-a-l-ail                                                     NaN   \n",
      "\n",
      "countries_en                                        Switzerland,United States  \\\n",
      "categories_en                                                                   \n",
      "Aceite-de-coco                                                            NaN   \n",
      "Baked-beans                                                               NaN   \n",
      "Balsamic-vinaigrette-dressing                                             NaN   \n",
      "Banana-nut-loaf                                                           NaN   \n",
      "Barbeque-sauce,Steak-sauce                                                NaN   \n",
      "...                                                                       ...   \n",
      "Whole-wheat-tortillas,Tortillas,Wheat-tortillas                           NaN   \n",
      "fr:Boulange                                                               NaN   \n",
      "fr:Flapjack                                                               NaN   \n",
      "fr:Gateaux-roules,fr:Genoises,fr:Roules-a-la-fr...                        NaN   \n",
      "fr:Pain-a-l-ail                                                           NaN   \n",
      "\n",
      "countries_en                                        United Kingdom  \\\n",
      "categories_en                                                        \n",
      "Aceite-de-coco                                                 NaN   \n",
      "Baked-beans                                                    NaN   \n",
      "Balsamic-vinaigrette-dressing                                  NaN   \n",
      "Banana-nut-loaf                                                NaN   \n",
      "Barbeque-sauce,Steak-sauce                                     NaN   \n",
      "...                                                            ...   \n",
      "Whole-wheat-tortillas,Tortillas,Wheat-tortillas                NaN   \n",
      "fr:Boulange                                                    NaN   \n",
      "fr:Flapjack                                                    NaN   \n",
      "fr:Gateaux-roules,fr:Genoises,fr:Roules-a-la-fr...             NaN   \n",
      "fr:Pain-a-l-ail                                                NaN   \n",
      "\n",
      "countries_en                                        United States  \n",
      "categories_en                                                      \n",
      "Aceite-de-coco                                                NaN  \n",
      "Baked-beans                                                26.150  \n",
      "Balsamic-vinaigrette-dressing                              16.100  \n",
      "Banana-nut-loaf                                            40.755  \n",
      "Barbeque-sauce,Steak-sauce                                    NaN  \n",
      "...                                                           ...  \n",
      "Whole-wheat-tortillas,Tortillas,Wheat-tortillas            45.610  \n",
      "fr:Boulange                                                   NaN  \n",
      "fr:Flapjack                                                   NaN  \n",
      "fr:Gateaux-roules,fr:Genoises,fr:Roules-a-la-fr...            NaN  \n",
      "fr:Pain-a-l-ail                                               NaN  \n",
      "\n",
      "[440 rows x 35 columns]\n",
      "The answer for this question is undetermined, use the online test instead.\n"
     ]
    },
    {
     "data": {
      "application/javascript": "parent.postMessage({\"jupyterEvent\": \"custom.exercise_interaction\", \"data\": {\"outcomeType\": 1, \"valueTowardsCompletion\": 0.05, \"interactionType\": 1, \"questionType\": 1, \"questionId\": \"18_Exercise18\", \"failureMessage\": \"\", \"exceptionClass\": \"\", \"trace\": \"\"}}, \"*\")",
      "text/plain": [
       "<IPython.core.display.Javascript object>"
      ]
     },
     "metadata": {},
     "output_type": "display_data"
    },
    {
     "data": {
      "text/markdown": [
       "<span style=\"color:#33cc33\">Correct</span>"
      ],
      "text/plain": [
       "Correct"
      ]
     },
     "metadata": {},
     "output_type": "display_data"
    }
   ],
   "source": [
    "def exercise_18(df) -> pd.DataFrame:\n",
    "    df_copy = df.copy()\n",
    "    \n",
    "    table = pd.pivot_table(df_copy, values='carbohydrates_100g', index='categories_en', \n",
    "                           columns=['countries_en'], aggfunc=\"mean\")\n",
    "    \n",
    "    print(table)\n",
    "    \n",
    "\n",
    "    #return NotImplementedError\n",
    "\n",
    "ex18_sol = exercise_18(df)\n",
    "q18.check()"
   ]
  },
  {
   "cell_type": "markdown",
   "metadata": {},
   "source": [
    "### Q19: Compare the average sodium levels ('sodium_100g') between processed and non-processed foods. Processed foods are those with \"categories\" matching one or more in the list given below. Round your results to the nearest 3 decimal places."
   ]
  },
  {
   "cell_type": "code",
   "execution_count": 24,
   "metadata": {},
   "outputs": [
    {
     "name": "stdout",
     "output_type": "stream",
     "text": [
      "0.805 0.302\n"
     ]
    },
    {
     "data": {
      "application/javascript": "parent.postMessage({\"jupyterEvent\": \"custom.exercise_interaction\", \"data\": {\"outcomeType\": 1, \"valueTowardsCompletion\": 0.05, \"interactionType\": 1, \"questionType\": 1, \"questionId\": \"19_Exercise19\", \"failureMessage\": \"\", \"exceptionClass\": \"\", \"trace\": \"\"}}, \"*\")",
      "text/plain": [
       "<IPython.core.display.Javascript object>"
      ]
     },
     "metadata": {},
     "output_type": "display_data"
    },
    {
     "data": {
      "text/markdown": [
       "<span style=\"color:#33cc33\">Correct</span>"
      ],
      "text/plain": [
       "Correct"
      ]
     },
     "metadata": {},
     "output_type": "display_data"
    }
   ],
   "source": [
    "processed_keywords = ['snack', 'fast food', 'ready meal', 'processed', 'canned', 'packaged']\n",
    "def exercise_19(df, processed_keywords) -> tuple:\n",
    "    mask_processed = df[\"categories\"].str.contains(\"|\".join(processed_keywords), case = False, na = False)\n",
    "    avg_processed = round(df.loc[mask_processed, \"sodium_100g\"].mean(), 3)\n",
    "    avg_nonprocessed = round(df.loc[~mask_processed, \"sodium_100g\"].mean(), 3)\n",
    "    print(avg_nonprocessed, avg_processed)\n",
    "    return (avg_nonprocessed, avg_processed)\n",
    "    \n",
    "\n",
    "# Ví dụ gọi hàm với DataFrame df đã được nạp\n",
    "ex19_sol = exercise_19(df, processed_keywords)\n",
    "q19.check()"
   ]
  },
  {
   "cell_type": "markdown",
   "metadata": {},
   "source": [
    "### Q20: Extract the first ingredient from the 'ingredients_text' for each row. NaN values should be saved as 'Unknown'. Show the first 100 values."
   ]
  },
  {
   "cell_type": "code",
   "execution_count": 25,
   "metadata": {},
   "outputs": [
    {
     "name": "stdout",
     "output_type": "stream",
     "text": [
      "0                  Unknown\n",
      "1                  Bananas\n",
      "2                  Peanuts\n",
      "3        Organic hazelnuts\n",
      "4          Organic polenta\n",
      "               ...        \n",
      "49995                Water\n",
      "49996       Filtered water\n",
      "49997       Filtered water\n",
      "49998       Filtered water\n",
      "49999                Water\n",
      "Name: first_value, Length: 50000, dtype: object\n"
     ]
    },
    {
     "data": {
      "application/javascript": "parent.postMessage({\"jupyterEvent\": \"custom.exercise_interaction\", \"data\": {\"outcomeType\": 1, \"valueTowardsCompletion\": 0.05, \"interactionType\": 1, \"questionType\": 1, \"questionId\": \"20_Exercise20\", \"failureMessage\": \"\", \"exceptionClass\": \"\", \"trace\": \"\"}}, \"*\")",
      "text/plain": [
       "<IPython.core.display.Javascript object>"
      ]
     },
     "metadata": {},
     "output_type": "display_data"
    },
    {
     "data": {
      "text/markdown": [
       "<span style=\"color:#33cc33\">Correct</span>"
      ],
      "text/plain": [
       "Correct"
      ]
     },
     "metadata": {},
     "output_type": "display_data"
    }
   ],
   "source": [
    "def exercise_20(df) -> pd.Series:\n",
    "    df_copy = df.copy()\n",
    "\n",
    "    df_copy['first_value'] = df_copy['ingredients_text'].apply(lambda x: str(x).split(',')[0] if pd.notnull(x) else \"Unknown\")\n",
    "    print(df_copy['first_value'])\n",
    "    return(df_copy['first_value'].head(100))\n",
    "\n",
    "ex20_sol = exercise_20(df)\n",
    "q20.check()"
   ]
  }
 ],
 "metadata": {
  "kernelspec": {
   "display_name": "Python 3",
   "language": "python",
   "name": "python3"
  },
  "language_info": {
   "codemirror_mode": {
    "name": "ipython",
    "version": 3
   },
   "file_extension": ".py",
   "mimetype": "text/x-python",
   "name": "python",
   "nbconvert_exporter": "python",
   "pygments_lexer": "ipython3",
   "version": "3.12.1"
  }
 },
 "nbformat": 4,
 "nbformat_minor": 2
}
