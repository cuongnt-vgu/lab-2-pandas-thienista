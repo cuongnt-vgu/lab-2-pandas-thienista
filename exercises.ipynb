{
 "cells": [
  {
   "cell_type": "code",
   "execution_count": 1,
   "metadata": {},
   "outputs": [
    {
     "name": "stdout",
     "output_type": "stream",
     "text": [
      "Setup Complete\n"
     ]
    }
   ],
   "source": [
    "from learntools.core import binder\n",
    "binder.bind(globals())\n",
    "from learntools_ex import *\n",
    "print(\"Setup Complete\")\n",
    "\n",
    "import numpy as np, pandas as pd"
   ]
  },
  {
   "cell_type": "markdown",
   "metadata": {},
   "source": [
    "> **WARNING:** The tests will fail if you reorder the columns or rows for no reason.\n",
    "\n",
    "> **Note**: The dataset 3 is large enough to exceed the Github normal storage for repositories. You **should not push** the whole file and only use it locally. You can modify `.gitignore` to command git to ignore that file."
   ]
  },
  {
   "cell_type": "markdown",
   "metadata": {},
   "source": [
    "**ATTENTION:** _For questions which require you to have a pre-loaded dataset assigned to a variable, make sure to **not make any changes to that variable** either inside or outside of your solution functions. This could be done by **copying or cloning** the variable to another temporary variable which can be read or written as you like. For example, you have a variable `df` which is storing a dataset by running `df = pandas.read_csv(\"path/to/your/file.csv\")`, and a question asking you to \"multiply column A by 3\". One possible solution would be:_\n",
    "\n",
    "```python\n",
    "import pandas as pd\n",
    "\n",
    "df = pd.read_csv(\"path/to/your/file.csv\")\n",
    "\n",
    "def exercise_n(df) -> pd.DataFrame:\n",
    "    df['A'] = df['A'] * 3 #changes made directly to column A of the df variable\n",
    "    return df\n",
    "\n",
    "exn_sol = exercise_n(df)\n",
    "```\n",
    "\n",
    "_This will be fine if the dataset is only used for that single question. However, as Python treats the arguments of functions are passed by references if the arguments are objects, writing this kind of function would overwrite the data in your original `df`. To avoid this, you should always make a copy at the beginning of your function and manipulate that copy instead of the argument. It would look like this:_\n",
    "\n",
    "```python\n",
    "import pandas as pd\n",
    "\n",
    "df = pd.read_csv(\"path/to/your/file.csv\")\n",
    "\n",
    "def exercise_n(df) -> pd.DataFrame:\n",
    "    cloned_df = df.copy() #temporary variable for manipulations\n",
    "\n",
    "    cloned_df['A'] = cloned_df['A'] * 3 #note that the df argument is not used anywhere else except for the cloning step\n",
    "    return cloned_df\n",
    "\n",
    "exn_sol = exercise_n(df)\n",
    "```"
   ]
  },
  {
   "cell_type": "markdown",
   "metadata": {},
   "source": [
    "## Questions"
   ]
  },
  {
   "cell_type": "markdown",
   "metadata": {},
   "source": [
    "### Q1: Form a DataFrame with values and column names given below. Use the variable names as column names."
   ]
  },
  {
   "cell_type": "code",
   "execution_count": 3,
   "metadata": {},
   "outputs": [
    {
     "data": {
      "application/javascript": "parent.postMessage({\"jupyterEvent\": \"custom.exercise_interaction\", \"data\": {\"outcomeType\": 1, \"valueTowardsCompletion\": 0.05, \"interactionType\": 1, \"questionType\": 1, \"questionId\": \"1_Exercise1\", \"failureMessage\": \"\", \"exceptionClass\": \"\", \"trace\": \"\"}}, \"*\")",
      "text/plain": [
       "<IPython.core.display.Javascript object>"
      ]
     },
     "metadata": {},
     "output_type": "display_data"
    },
    {
     "data": {
      "text/markdown": [
       "<span style=\"color:#33cc33\">Correct</span>"
      ],
      "text/plain": [
       "Correct"
      ]
     },
     "metadata": {},
     "output_type": "display_data"
    }
   ],
   "source": [
    "A = [1, 2, 3, 4]\n",
    "B = [5, 6, 7, 8]\n",
    "\n",
    "def exercise_1(A, B) -> pd.DataFrame:\n",
    "    array = np.array(list(zip(A, B)))\n",
    "    q1_sol = pd.DataFrame(array, columns=[\"A\", \"B\"])\n",
    "\n",
    "    #print (q1_sol)\n",
    "    return q1_sol\n",
    "    #return NotImplementedError\n",
    "\n",
    "ex1_sol = exercise_1(A, B)\n",
    "q1.check()"
   ]
  },
  {
   "cell_type": "markdown",
   "metadata": {},
   "source": [
    "### Q2: Form a DataFrame with the given Series. Use the variable names as column names."
   ]
  },
  {
   "cell_type": "code",
   "execution_count": 4,
   "metadata": {},
   "outputs": [
    {
     "data": {
      "application/javascript": "parent.postMessage({\"jupyterEvent\": \"custom.exercise_interaction\", \"data\": {\"outcomeType\": 1, \"valueTowardsCompletion\": 0.05, \"interactionType\": 1, \"questionType\": 1, \"questionId\": \"2_Exercise2\", \"failureMessage\": \"\", \"exceptionClass\": \"\", \"trace\": \"\"}}, \"*\")",
      "text/plain": [
       "<IPython.core.display.Javascript object>"
      ]
     },
     "metadata": {},
     "output_type": "display_data"
    },
    {
     "data": {
      "text/markdown": [
       "<span style=\"color:#33cc33\">Correct</span>"
      ],
      "text/plain": [
       "Correct"
      ]
     },
     "metadata": {},
     "output_type": "display_data"
    }
   ],
   "source": [
    "ser1 = pd.Series(list('iloveyou'))\n",
    "ser2 = pd.Series(range(8))\n",
    "\n",
    "def exercise_2(ser1, ser2) -> pd.DataFrame:\n",
    "    #print(ser1, ser2)\n",
    "    q2_sol = pd.DataFrame({\"ser1\": ser1, \"ser2\": ser2})\n",
    "    #print(q2_sol)\n",
    "    return q2_sol\n",
    "    #return NotImplementedError\n",
    "\n",
    "ex2_sol = exercise_2(ser1, ser2)\n",
    "q2.check()"
   ]
  },
  {
   "cell_type": "markdown",
   "metadata": {},
   "source": [
    "### Q3: How to get the items not common to both series A and series B? (Not in their intersection set)"
   ]
  },
  {
   "cell_type": "code",
   "execution_count": 44,
   "metadata": {},
   "outputs": [
    {
     "name": "stdout",
     "output_type": "stream",
     "text": [
      "0    11\n",
      "1    12\n",
      "2    13\n",
      "3    16\n",
      "4    17\n",
      "5    18\n",
      "dtype: int64\n"
     ]
    },
    {
     "data": {
      "application/javascript": "parent.postMessage({\"jupyterEvent\": \"custom.exercise_interaction\", \"data\": {\"outcomeType\": 1, \"valueTowardsCompletion\": 0.05, \"interactionType\": 1, \"questionType\": 1, \"questionId\": \"3_Exercise3\", \"failureMessage\": \"\", \"exceptionClass\": \"\", \"trace\": \"\"}}, \"*\")",
      "text/plain": [
       "<IPython.core.display.Javascript object>"
      ]
     },
     "metadata": {},
     "output_type": "display_data"
    },
    {
     "data": {
      "text/markdown": [
       "<span style=\"color:#33cc33\">Correct</span>"
      ],
      "text/plain": [
       "Correct"
      ]
     },
     "metadata": {},
     "output_type": "display_data"
    }
   ],
   "source": [
    "A = pd.Series([14, 15, 16, 17, 18])\n",
    "B = pd.Series([11, 12, 13, 14, 15])\n",
    "\n",
    "def exercise_3(A, B) -> pd.Series:\n",
    "    A = A.to_list()\n",
    "    B = B.to_list()\n",
    "\n",
    "    unique_items = []\n",
    "\n",
    "    for item in A:\n",
    "        if item not in B:\n",
    "            unique_items.append(item)\n",
    "    \n",
    "    for item in B:\n",
    "        if item not in A:\n",
    "            unique_items.append(item)\n",
    "    \n",
    "    ex3_sol = sorted(unique_items)\n",
    "    ex3_sol = pd.Series(ex3_sol)\n",
    "    print(ex3_sol)\n",
    "    return (ex3_sol)\n",
    "\n",
    "    #ex3_sol = pd.Series(list(set(A).symmetric_difference(set(B))))\n",
    "    #print(pd.Series([11, 12, 13, 16, 17, 18]))\n",
    "    #return ex3_sol.sort_values()\n",
    "\n",
    "                \n",
    "    #return NotImplementedError\n",
    "\n",
    "ex3_sol = exercise_3(A, B)\n",
    "q3.check()"
   ]
  },
  {
   "cell_type": "markdown",
   "metadata": {},
   "source": [
    "## Instructions for Dataset 1\n",
    "\n",
    "The `DataFrame` given below will be used for questions 4, 5 and 6."
   ]
  },
  {
   "cell_type": "code",
   "execution_count": 7,
   "metadata": {},
   "outputs": [],
   "source": [
    "df = pd.DataFrame({ \n",
    "    'ID': [10, np.nan, 20, 30, np.nan, 50, np.nan, \n",
    "           150, 200, 102, np.nan, 130], \n",
    "  \n",
    "    'Sale': [10, 20, np.nan, 11, 90, np.nan, \n",
    "             55, 14, np.nan, 25, 75, 35], \n",
    "  \n",
    "    'Date': ['2020-10-05', '2020-09-10', np.nan, \n",
    "             '2020-08-17', '2020-09-10', '2020-07-27', \n",
    "             '2020-09-10', '2020-10-10', '2020-10-10', \n",
    "             '2020-06-27', '2020-08-17', '2020-04-25'], \n",
    "})"
   ]
  },
  {
   "cell_type": "markdown",
   "metadata": {},
   "source": [
    "## Questions"
   ]
  },
  {
   "cell_type": "markdown",
   "metadata": {},
   "source": [
    "### Q4: Fill any NaN value in the column 'Sale' with 0. Return the filled column 'Sale' only."
   ]
  },
  {
   "cell_type": "code",
   "execution_count": 8,
   "metadata": {},
   "outputs": [
    {
     "data": {
      "application/javascript": "parent.postMessage({\"jupyterEvent\": \"custom.exercise_interaction\", \"data\": {\"outcomeType\": 1, \"valueTowardsCompletion\": 0.05, \"interactionType\": 1, \"questionType\": 1, \"questionId\": \"4_Exercise4\", \"failureMessage\": \"\", \"exceptionClass\": \"\", \"trace\": \"\"}}, \"*\")",
      "text/plain": [
       "<IPython.core.display.Javascript object>"
      ]
     },
     "metadata": {},
     "output_type": "display_data"
    },
    {
     "data": {
      "text/markdown": [
       "<span style=\"color:#33cc33\">Correct</span>"
      ],
      "text/plain": [
       "Correct"
      ]
     },
     "metadata": {},
     "output_type": "display_data"
    }
   ],
   "source": [
    "def exercise_4(df) -> pd.Series:\n",
    "    df_copy = df.copy()\n",
    "    df_copy['Sale'] = df_copy['Sale'].fillna(0)\n",
    "    #print(df_copy['Sale'])\n",
    "    return df_copy['Sale']\n",
    "\n",
    "\n",
    "    #return NotImplementedError\n",
    "\n",
    "ex4_sol = exercise_4(df)\n",
    "q4.check()"
   ]
  },
  {
   "cell_type": "markdown",
   "metadata": {},
   "source": [
    "### Q5: Fill any NaN value of the column \"Sale\" with the mean value of the column. Return the filled column 'Sale' only. Round your results to the nearest integer."
   ]
  },
  {
   "cell_type": "code",
   "execution_count": 9,
   "metadata": {},
   "outputs": [
    {
     "data": {
      "application/javascript": "parent.postMessage({\"jupyterEvent\": \"custom.exercise_interaction\", \"data\": {\"outcomeType\": 1, \"valueTowardsCompletion\": 0.05, \"interactionType\": 1, \"questionType\": 1, \"questionId\": \"5_Exercise5\", \"failureMessage\": \"\", \"exceptionClass\": \"\", \"trace\": \"\"}}, \"*\")",
      "text/plain": [
       "<IPython.core.display.Javascript object>"
      ]
     },
     "metadata": {},
     "output_type": "display_data"
    },
    {
     "data": {
      "text/markdown": [
       "<span style=\"color:#33cc33\">Correct</span>"
      ],
      "text/plain": [
       "Correct"
      ]
     },
     "metadata": {},
     "output_type": "display_data"
    }
   ],
   "source": [
    "def exercise_5(df) -> pd.Series:\n",
    "    df_copy = df.copy()\n",
    "    df_copy['Sale'] = df_copy['Sale'].replace(0, np.nan)\n",
    "\n",
    "    #print(df_copy['Sale'])\n",
    "\n",
    "    mean_Sale = round(df_copy['Sale'].mean())\n",
    "    #print(mean_Sale)\n",
    "\n",
    "    mean_Sale_replace_nan = df_copy['Sale'].fillna(mean_Sale)\n",
    "    #print(mean_Sale_replace_nan)\n",
    "    return mean_Sale_replace_nan\n",
    "\n",
    "    #return NotImplementedError\n",
    "\n",
    "ex5_sol = exercise_5(df)\n",
    "q5.check()"
   ]
  },
  {
   "cell_type": "markdown",
   "metadata": {},
   "source": [
    "### Q6: How many products are there which can be identified with \"ID\"?"
   ]
  },
  {
   "cell_type": "code",
   "execution_count": 10,
   "metadata": {},
   "outputs": [
    {
     "data": {
      "application/javascript": "parent.postMessage({\"jupyterEvent\": \"custom.exercise_interaction\", \"data\": {\"outcomeType\": 1, \"valueTowardsCompletion\": 0.05, \"interactionType\": 1, \"questionType\": 1, \"questionId\": \"6_Exercise6\", \"failureMessage\": \"\", \"exceptionClass\": \"\", \"trace\": \"\"}}, \"*\")",
      "text/plain": [
       "<IPython.core.display.Javascript object>"
      ]
     },
     "metadata": {},
     "output_type": "display_data"
    },
    {
     "data": {
      "text/markdown": [
       "<span style=\"color:#33cc33\">Correct</span>"
      ],
      "text/plain": [
       "Correct"
      ]
     },
     "metadata": {},
     "output_type": "display_data"
    }
   ],
   "source": [
    "def exercise_6(df) -> int:\n",
    "    df_copy = df.copy()\n",
    "    #print(df_copy['ID'])\n",
    "    not_nan = []\n",
    "\n",
    "    for i in df_copy['ID']:\n",
    "        if not np.isnan(i):\n",
    "            not_nan.append(i)\n",
    "\n",
    "    #print(len(not_nan))\n",
    "    return(len(not_nan))\n",
    "    #return NotImplementedError\n",
    "\n",
    "ex6_sol = exercise_6(df)\n",
    "q6.check()"
   ]
  },
  {
   "cell_type": "markdown",
   "metadata": {},
   "source": [
    "## Instructions for dataset 2\n",
    "Get your data at [https://raw.githubusercontent.com/guipsamora/pandas_exercises/master/04_Apply/US_Crime_Rates/US_Crime_Rates_1960_2014.csv](https://raw.githubusercontent.com/guipsamora/pandas_exercises/master/04_Apply/US_Crime_Rates/US_Crime_Rates_1960_2014.csv) and change the path to your downloaded file. Store it as a `Dataframe` in a variable for your answers later."
   ]
  },
  {
   "cell_type": "code",
   "execution_count": 11,
   "metadata": {},
   "outputs": [],
   "source": [
    "# reading and storing in this cell\n",
    "df = pd.read_csv('/workspaces/lab-2-pandas-thienista/US_Crime_Rates_1960_2014.csv')"
   ]
  },
  {
   "cell_type": "markdown",
   "metadata": {},
   "source": [
    "## Questions"
   ]
  },
  {
   "cell_type": "markdown",
   "metadata": {},
   "source": [
    "### Q7: How many years of crime data are collected in the dataset? (The crime data has been collected in a span of ? years)"
   ]
  },
  {
   "cell_type": "code",
   "execution_count": 12,
   "metadata": {},
   "outputs": [
    {
     "data": {
      "application/javascript": "parent.postMessage({\"jupyterEvent\": \"custom.exercise_interaction\", \"data\": {\"outcomeType\": 1, \"valueTowardsCompletion\": 0.05, \"interactionType\": 1, \"questionType\": 1, \"questionId\": \"7_Exercise7\", \"failureMessage\": \"\", \"exceptionClass\": \"\", \"trace\": \"\"}}, \"*\")",
      "text/plain": [
       "<IPython.core.display.Javascript object>"
      ]
     },
     "metadata": {},
     "output_type": "display_data"
    },
    {
     "data": {
      "text/markdown": [
       "<span style=\"color:#33cc33\">Correct</span>"
      ],
      "text/plain": [
       "Correct"
      ]
     },
     "metadata": {},
     "output_type": "display_data"
    }
   ],
   "source": [
    "def exercise_7(df) -> int:\n",
    "    df_copy = df.copy()\n",
    "    #print(len(df_copy['Year']))\n",
    "    return(len(df_copy['Year']))\n",
    "    #return NotImplementedError\n",
    "\n",
    "ex7_sol = exercise_7(df)\n",
    "q7.check()"
   ]
  },
  {
   "cell_type": "markdown",
   "metadata": {},
   "source": [
    "### Q8: Find the year with the highest number of property crimes."
   ]
  },
  {
   "cell_type": "code",
   "execution_count": 13,
   "metadata": {},
   "outputs": [
    {
     "name": "stdout",
     "output_type": "stream",
     "text": [
      "    Year  Property\n",
      "0   1960   3095700\n",
      "1   1961   3198600\n",
      "2   1962   3450700\n",
      "3   1963   3792500\n",
      "4   1964   4200400\n",
      "5   1965   4352000\n",
      "6   1966   4793300\n",
      "7   1967   5403500\n",
      "8   1968   6125200\n",
      "9   1969   6749000\n",
      "10  1970   7359200\n",
      "11  1971   7771700\n",
      "12  1972   7413900\n",
      "13  1973   7842200\n",
      "14  1974   9278700\n",
      "15  1975  10252700\n",
      "16  1976  10345500\n",
      "17  1977   9955000\n",
      "18  1978  10123400\n",
      "19  1979  11041500\n",
      "20  1980  12063700\n",
      "21  1981  12061900\n",
      "22  1982  11652000\n",
      "23  1983  10850500\n",
      "24  1984  10608500\n",
      "25  1985  11102600\n",
      "26  1986  11722700\n",
      "27  1987  12024700\n",
      "28  1988  12356900\n",
      "29  1989  12605400\n",
      "30  1990  12655500\n",
      "31  1991  12961100\n",
      "32  1992  12505900\n",
      "33  1993  12218800\n",
      "34  1994  12131900\n",
      "35  1995  12063900\n",
      "36  1996  11805300\n",
      "37  1997  11558175\n",
      "38  1998  10944590\n",
      "39  1999  10208334\n",
      "40  2000  10182586\n",
      "41  2001  10437480\n",
      "42  2002  10455277\n",
      "43  2003  10442862\n",
      "44  2004  10319386\n",
      "45  2005  10174754\n",
      "46  2006   9983568\n",
      "47  2007   9843481\n",
      "48  2008   9767915\n",
      "49  2009   9337060\n",
      "50  2010   9112625\n",
      "51  2011   9052743\n",
      "52  2012   9001992\n",
      "53  2013   8650761\n",
      "54  2014   8277829\n"
     ]
    },
    {
     "data": {
      "application/javascript": "parent.postMessage({\"jupyterEvent\": \"custom.exercise_interaction\", \"data\": {\"outcomeType\": 1, \"valueTowardsCompletion\": 0.05, \"interactionType\": 1, \"questionType\": 1, \"questionId\": \"8_Exercise8\", \"failureMessage\": \"\", \"exceptionClass\": \"\", \"trace\": \"\"}}, \"*\")",
      "text/plain": [
       "<IPython.core.display.Javascript object>"
      ]
     },
     "metadata": {},
     "output_type": "display_data"
    },
    {
     "data": {
      "text/markdown": [
       "<span style=\"color:#33cc33\">Correct</span>"
      ],
      "text/plain": [
       "Correct"
      ]
     },
     "metadata": {},
     "output_type": "display_data"
    }
   ],
   "source": [
    "def exercise_8(df) -> int:\n",
    "    df_copy = df.copy()\n",
    "    print(df_copy[['Year', 'Property']])\n",
    "    max_property = df_copy['Property'].max()\n",
    "    year_max_property = df[df_copy['Property'] == max_property]['Year'].iloc[0]\n",
    "    #print(year_max_property)\n",
    "    return year_max_property\n",
    "    #return NotImplementedError\n",
    "\n",
    "ex8_sol = exercise_8(df)\n",
    "q8.check()"
   ]
  },
  {
   "cell_type": "markdown",
   "metadata": {},
   "source": [
    "### Q9: Convert the column Year to type datetime64 and set it as the index column of the DataFrame."
   ]
  },
  {
   "cell_type": "markdown",
   "metadata": {},
   "source": [
    "This question cannot be tested currently using `leartools`, hence the `q9.check()` always ouput as `correct`. Make sure your code works by yourself before submitting to Github."
   ]
  },
  {
   "cell_type": "code",
   "execution_count": 53,
   "metadata": {},
   "outputs": [
    {
     "ename": "KeyError",
     "evalue": "'Year'",
     "output_type": "error",
     "traceback": [
      "\u001b[31m---------------------------------------------------------------------------\u001b[39m",
      "\u001b[31mKeyError\u001b[39m                                  Traceback (most recent call last)",
      "\u001b[36mFile \u001b[39m\u001b[32m~/.local/lib/python3.12/site-packages/pandas/core/indexes/base.py:3805\u001b[39m, in \u001b[36mIndex.get_loc\u001b[39m\u001b[34m(self, key)\u001b[39m\n\u001b[32m   3804\u001b[39m \u001b[38;5;28;01mtry\u001b[39;00m:\n\u001b[32m-> \u001b[39m\u001b[32m3805\u001b[39m     \u001b[38;5;28;01mreturn\u001b[39;00m \u001b[38;5;28;43mself\u001b[39;49m\u001b[43m.\u001b[49m\u001b[43m_engine\u001b[49m\u001b[43m.\u001b[49m\u001b[43mget_loc\u001b[49m\u001b[43m(\u001b[49m\u001b[43mcasted_key\u001b[49m\u001b[43m)\u001b[49m\n\u001b[32m   3806\u001b[39m \u001b[38;5;28;01mexcept\u001b[39;00m \u001b[38;5;167;01mKeyError\u001b[39;00m \u001b[38;5;28;01mas\u001b[39;00m err:\n",
      "\u001b[36mFile \u001b[39m\u001b[32mindex.pyx:167\u001b[39m, in \u001b[36mpandas._libs.index.IndexEngine.get_loc\u001b[39m\u001b[34m()\u001b[39m\n",
      "\u001b[36mFile \u001b[39m\u001b[32mindex.pyx:196\u001b[39m, in \u001b[36mpandas._libs.index.IndexEngine.get_loc\u001b[39m\u001b[34m()\u001b[39m\n",
      "\u001b[36mFile \u001b[39m\u001b[32mpandas/_libs/hashtable_class_helper.pxi:7081\u001b[39m, in \u001b[36mpandas._libs.hashtable.PyObjectHashTable.get_item\u001b[39m\u001b[34m()\u001b[39m\n",
      "\u001b[36mFile \u001b[39m\u001b[32mpandas/_libs/hashtable_class_helper.pxi:7089\u001b[39m, in \u001b[36mpandas._libs.hashtable.PyObjectHashTable.get_item\u001b[39m\u001b[34m()\u001b[39m\n",
      "\u001b[31mKeyError\u001b[39m: 'Year'",
      "\nThe above exception was the direct cause of the following exception:\n",
      "\u001b[31mKeyError\u001b[39m                                  Traceback (most recent call last)",
      "\u001b[36mCell\u001b[39m\u001b[36m \u001b[39m\u001b[32mIn[53]\u001b[39m\u001b[32m, line 10\u001b[39m\n\u001b[32m      6\u001b[39m     df_copy = df_copy.dropna(subset=[\u001b[33m'\u001b[39m\u001b[33mYear\u001b[39m\u001b[33m'\u001b[39m])\n\u001b[32m      8\u001b[39m     df_copy.set_index(\u001b[33m'\u001b[39m\u001b[33mYear\u001b[39m\u001b[33m'\u001b[39m, inplace=\u001b[38;5;28;01mTrue\u001b[39;00m)\n\u001b[32m---> \u001b[39m\u001b[32m10\u001b[39m ex9_sol = \u001b[43mexercise_9\u001b[49m\u001b[43m(\u001b[49m\u001b[43mdf\u001b[49m\u001b[43m)\u001b[49m\n\u001b[32m     11\u001b[39m q9.check()\n",
      "\u001b[36mCell\u001b[39m\u001b[36m \u001b[39m\u001b[32mIn[53]\u001b[39m\u001b[32m, line 4\u001b[39m, in \u001b[36mexercise_9\u001b[39m\u001b[34m(df)\u001b[39m\n\u001b[32m      1\u001b[39m \u001b[38;5;28;01mdef\u001b[39;00m\u001b[38;5;250m \u001b[39m\u001b[34mexercise_9\u001b[39m(df) -> pd.DataFrame:\n\u001b[32m      2\u001b[39m     df_copy = df.copy()\n\u001b[32m----> \u001b[39m\u001b[32m4\u001b[39m     df_copy[\u001b[33m'\u001b[39m\u001b[33mYear\u001b[39m\u001b[33m'\u001b[39m] = pd.to_datetime(\u001b[43mdf_copy\u001b[49m\u001b[43m[\u001b[49m\u001b[33;43m'\u001b[39;49m\u001b[33;43mYear\u001b[39;49m\u001b[33;43m'\u001b[39;49m\u001b[43m]\u001b[49m, \u001b[38;5;28mformat\u001b[39m=\u001b[33m'\u001b[39m\u001b[33m%\u001b[39m\u001b[33mY\u001b[39m\u001b[33m'\u001b[39m, errors=\u001b[33m'\u001b[39m\u001b[33mcoerce\u001b[39m\u001b[33m'\u001b[39m)\n\u001b[32m      6\u001b[39m     df_copy = df_copy.dropna(subset=[\u001b[33m'\u001b[39m\u001b[33mYear\u001b[39m\u001b[33m'\u001b[39m])\n\u001b[32m      8\u001b[39m     df_copy.set_index(\u001b[33m'\u001b[39m\u001b[33mYear\u001b[39m\u001b[33m'\u001b[39m, inplace=\u001b[38;5;28;01mTrue\u001b[39;00m)\n",
      "\u001b[36mFile \u001b[39m\u001b[32m~/.local/lib/python3.12/site-packages/pandas/core/frame.py:4102\u001b[39m, in \u001b[36mDataFrame.__getitem__\u001b[39m\u001b[34m(self, key)\u001b[39m\n\u001b[32m   4100\u001b[39m \u001b[38;5;28;01mif\u001b[39;00m \u001b[38;5;28mself\u001b[39m.columns.nlevels > \u001b[32m1\u001b[39m:\n\u001b[32m   4101\u001b[39m     \u001b[38;5;28;01mreturn\u001b[39;00m \u001b[38;5;28mself\u001b[39m._getitem_multilevel(key)\n\u001b[32m-> \u001b[39m\u001b[32m4102\u001b[39m indexer = \u001b[38;5;28;43mself\u001b[39;49m\u001b[43m.\u001b[49m\u001b[43mcolumns\u001b[49m\u001b[43m.\u001b[49m\u001b[43mget_loc\u001b[49m\u001b[43m(\u001b[49m\u001b[43mkey\u001b[49m\u001b[43m)\u001b[49m\n\u001b[32m   4103\u001b[39m \u001b[38;5;28;01mif\u001b[39;00m is_integer(indexer):\n\u001b[32m   4104\u001b[39m     indexer = [indexer]\n",
      "\u001b[36mFile \u001b[39m\u001b[32m~/.local/lib/python3.12/site-packages/pandas/core/indexes/base.py:3812\u001b[39m, in \u001b[36mIndex.get_loc\u001b[39m\u001b[34m(self, key)\u001b[39m\n\u001b[32m   3807\u001b[39m     \u001b[38;5;28;01mif\u001b[39;00m \u001b[38;5;28misinstance\u001b[39m(casted_key, \u001b[38;5;28mslice\u001b[39m) \u001b[38;5;129;01mor\u001b[39;00m (\n\u001b[32m   3808\u001b[39m         \u001b[38;5;28misinstance\u001b[39m(casted_key, abc.Iterable)\n\u001b[32m   3809\u001b[39m         \u001b[38;5;129;01mand\u001b[39;00m \u001b[38;5;28many\u001b[39m(\u001b[38;5;28misinstance\u001b[39m(x, \u001b[38;5;28mslice\u001b[39m) \u001b[38;5;28;01mfor\u001b[39;00m x \u001b[38;5;129;01min\u001b[39;00m casted_key)\n\u001b[32m   3810\u001b[39m     ):\n\u001b[32m   3811\u001b[39m         \u001b[38;5;28;01mraise\u001b[39;00m InvalidIndexError(key)\n\u001b[32m-> \u001b[39m\u001b[32m3812\u001b[39m     \u001b[38;5;28;01mraise\u001b[39;00m \u001b[38;5;167;01mKeyError\u001b[39;00m(key) \u001b[38;5;28;01mfrom\u001b[39;00m\u001b[38;5;250m \u001b[39m\u001b[34;01merr\u001b[39;00m\n\u001b[32m   3813\u001b[39m \u001b[38;5;28;01mexcept\u001b[39;00m \u001b[38;5;167;01mTypeError\u001b[39;00m:\n\u001b[32m   3814\u001b[39m     \u001b[38;5;66;03m# If we have a listlike key, _check_indexing_error will raise\u001b[39;00m\n\u001b[32m   3815\u001b[39m     \u001b[38;5;66;03m#  InvalidIndexError. Otherwise we fall through and re-raise\u001b[39;00m\n\u001b[32m   3816\u001b[39m     \u001b[38;5;66;03m#  the TypeError.\u001b[39;00m\n\u001b[32m   3817\u001b[39m     \u001b[38;5;28mself\u001b[39m._check_indexing_error(key)\n",
      "\u001b[31mKeyError\u001b[39m: 'Year'"
     ]
    }
   ],
   "source": [
    "def exercise_9(df) -> pd.DataFrame:\n",
    "    df_copy = df.copy()\n",
    "\n",
    "    df_copy['Year'] = pd.to_datetime(df_copy['Year'], format='%Y', errors='coerce')\n",
    "\n",
    "    df_copy = df_copy.dropna(subset=['Year'])\n",
    "\n",
    "    df_copy.set_index('Year', inplace=True)\n",
    "\n",
    "ex9_sol = exercise_9(df)\n",
    "q9.check()"
   ]
  },
  {
   "cell_type": "markdown",
   "metadata": {},
   "source": [
    "### Q10: Delete any column having \"theft\" in its name (case insensitive). Show the first 10 rows."
   ]
  },
  {
   "cell_type": "code",
   "execution_count": 16,
   "metadata": {},
   "outputs": [
    {
     "data": {
      "application/javascript": "parent.postMessage({\"jupyterEvent\": \"custom.exercise_interaction\", \"data\": {\"outcomeType\": 1, \"valueTowardsCompletion\": 0.05, \"interactionType\": 1, \"questionType\": 1, \"questionId\": \"10_Exercise10\", \"failureMessage\": \"\", \"exceptionClass\": \"\", \"trace\": \"\"}}, \"*\")",
      "text/plain": [
       "<IPython.core.display.Javascript object>"
      ]
     },
     "metadata": {},
     "output_type": "display_data"
    },
    {
     "data": {
      "text/markdown": [
       "<span style=\"color:#33cc33\">Correct</span>"
      ],
      "text/plain": [
       "Correct"
      ]
     },
     "metadata": {},
     "output_type": "display_data"
    }
   ],
   "source": [
    "ex10_sol = pd.read_csv('answers/q10_answer.csv')\n",
    "#print (ex10_sol)\n",
    "def exercise_10(df) -> pd.DataFrame:\n",
    "    # Specify the string to exclude\n",
    "    df_copy = df.copy()\n",
    "    string_to_exclude = 'Theft'\n",
    "\n",
    "    # Create a new DataFrame with columns not containing the specified string\n",
    "    new_df = df_copy[[col for col in df_copy.columns if string_to_exclude not in col]]\n",
    "    #print(new_df.head(10))\n",
    "    return new_df.head(10)\n",
    "    #return NotImplementedErrord\n",
    "\n",
    "\n",
    "ex10_sol = exercise_10(df)\n",
    "q10.check()"
   ]
  },
  {
   "cell_type": "markdown",
   "metadata": {},
   "source": [
    "### Q11: Find the year with the largest percentage increase in total crimes compared to the previous year."
   ]
  },
  {
   "cell_type": "code",
   "execution_count": 17,
   "metadata": {},
   "outputs": [
    {
     "data": {
      "application/javascript": "parent.postMessage({\"jupyterEvent\": \"custom.exercise_interaction\", \"data\": {\"outcomeType\": 1, \"valueTowardsCompletion\": 0.05, \"interactionType\": 1, \"questionType\": 1, \"questionId\": \"11_Exercise11\", \"failureMessage\": \"\", \"exceptionClass\": \"\", \"trace\": \"\"}}, \"*\")",
      "text/plain": [
       "<IPython.core.display.Javascript object>"
      ]
     },
     "metadata": {},
     "output_type": "display_data"
    },
    {
     "data": {
      "text/markdown": [
       "<span style=\"color:#33cc33\">Correct</span>"
      ],
      "text/plain": [
       "Correct"
      ]
     },
     "metadata": {},
     "output_type": "display_data"
    }
   ],
   "source": [
    "def exercise_11(df) -> int:\n",
    "    df_copy = df.copy()\n",
    "    df_copy[\"percentage_change\"] = df[\"Total\"].pct_change() * 100\n",
    "    res = df.loc[df_copy[\"percentage_change\"] == df_copy[\"percentage_change\"].max(), \"Year\"]\n",
    "    #print(res.iloc[0])\n",
    "    return res.iloc[0]\n",
    "    #return NotImplementedError\n",
    "\n",
    "ex11_sol = exercise_11(df)\n",
    "q11.check()"
   ]
  },
  {
   "cell_type": "markdown",
   "metadata": {},
   "source": [
    "**Note**: percentage change of 2 numbers A comparing to B is ((A-B)/A) * 100"
   ]
  },
  {
   "cell_type": "markdown",
   "metadata": {},
   "source": [
    "### Q12: Calculate the percentage change in robbery crimes from 1960 to 2014. Round it to the nearest 2 decimal places. "
   ]
  },
  {
   "cell_type": "code",
   "execution_count": 18,
   "metadata": {},
   "outputs": [
    {
     "data": {
      "application/javascript": "parent.postMessage({\"jupyterEvent\": \"custom.exercise_interaction\", \"data\": {\"outcomeType\": 1, \"valueTowardsCompletion\": 0.05, \"interactionType\": 1, \"questionType\": 1, \"questionId\": \"12_Exercise12\", \"failureMessage\": \"\", \"exceptionClass\": \"\", \"trace\": \"\"}}, \"*\")",
      "text/plain": [
       "<IPython.core.display.Javascript object>"
      ]
     },
     "metadata": {},
     "output_type": "display_data"
    },
    {
     "data": {
      "text/markdown": [
       "<span style=\"color:#33cc33\">Correct</span>"
      ],
      "text/plain": [
       "Correct"
      ]
     },
     "metadata": {},
     "output_type": "display_data"
    }
   ],
   "source": [
    "def exercise_12(df) -> float:\n",
    "    df_copy = df.copy()\n",
    "    \n",
    "    df_copy['Robbery_year'] = df.loc[(df_copy['Year'] >= 1960) & (df_copy['Year'] <= 2014), 'Robbery']\n",
    "    Robbery_1960 = df_copy['Robbery_year'].iloc[0]\n",
    "    Robbery_2014 = df_copy['Robbery_year'].iloc[-1]\n",
    "    #print(df_copy['Robbery_year'])\n",
    "    \n",
    "    #print(df_copy['Robbery_year'])\n",
    "    #print(df_copy['percentage_change_robbery'])\n",
    "    #print(Robbery_1960, Robbery_2014)\n",
    "    \n",
    "    percentage_change_robbery = round((((abs(Robbery_1960 - Robbery_2014)) / Robbery_1960) * 100), 2)\n",
    "    #print(percentage_change_robbery)\n",
    "    return percentage_change_robbery\n",
    "    # return NotImplementedError\n",
    "\n",
    "ex12_sol = exercise_12(df)\n",
    "q12.check()"
   ]
  },
  {
   "cell_type": "markdown",
   "metadata": {},
   "source": [
    "## Instructions for dataset 3\n",
    "Get your data at [https://drive.google.com/file/d/1a63cns5w2gOTITIGHy3aipRHua9XJmgz/view](https://drive.google.com/file/d/1a63cns5w2gOTITIGHy3aipRHua9XJmgz/view), which is a subset of the Kaggle Open Food Facts Dataset, and change the path to your downloaded file. Store it as a `Dataframe` in a variable for your answers later. Loading a dataset this large could generate a warning regarding the `dtype` of some columns. Set the option `low_memory=False` to suppress the warning. Ensure the \"code\" column is your index column and has type `str`. "
   ]
  },
  {
   "cell_type": "code",
   "execution_count": 19,
   "metadata": {},
   "outputs": [
    {
     "name": "stderr",
     "output_type": "stream",
     "text": [
      "/tmp/ipykernel_15909/3651958102.py:2: DtypeWarning: Columns (8,9,10,11,17,18,19,20,21,22,23,24,25,26,28,29,30,35,37,38,39,48,61,62) have mixed types. Specify dtype option on import or set low_memory=False.\n",
      "  df = pd.read_csv('/workspaces/lab-2-pandas-thienista/open-food-facts.csv')\n"
     ]
    }
   ],
   "source": [
    "# reading and storing in this cell\n",
    "df = pd.read_csv('/workspaces/lab-2-pandas-thienista/open-food-facts.csv') \n",
    "\n",
    "# remember to comment out or delete the code reading the dataset before pushing"
   ]
  },
  {
   "cell_type": "markdown",
   "metadata": {},
   "source": [
    "## Questions"
   ]
  },
  {
   "cell_type": "markdown",
   "metadata": {},
   "source": [
    "### Q13: How many unique products are available in the dataset?"
   ]
  },
  {
   "cell_type": "code",
   "execution_count": 22,
   "metadata": {},
   "outputs": [
    {
     "data": {
      "application/javascript": "parent.postMessage({\"jupyterEvent\": \"custom.exercise_interaction\", \"data\": {\"outcomeType\": 1, \"valueTowardsCompletion\": 0.05, \"interactionType\": 1, \"questionType\": 1, \"questionId\": \"13_Exercise13\", \"failureMessage\": \"\", \"exceptionClass\": \"\", \"trace\": \"\"}}, \"*\")",
      "text/plain": [
       "<IPython.core.display.Javascript object>"
      ]
     },
     "metadata": {},
     "output_type": "display_data"
    },
    {
     "data": {
      "text/markdown": [
       "<span style=\"color:#33cc33\">Correct</span>"
      ],
      "text/plain": [
       "Correct"
      ]
     },
     "metadata": {},
     "output_type": "display_data"
    }
   ],
   "source": [
    "def exercise_13(df) -> int:\n",
    "    df_copy = df.copy()\n",
    "    unique_product = df_copy[\"product_name\"].nunique()\n",
    "    #print(unique_product)\n",
    "    return (unique_product)\n",
    "    #return NotImplementedError\n",
    "\n",
    "ex13_sol = exercise_13(df)\n",
    "q13.check()"
   ]
  },
  {
   "cell_type": "markdown",
   "metadata": {},
   "source": [
    "### Q14: Find the percentage of missing values in each column. Round your results to the nearest 2 decimal places."
   ]
  },
  {
   "cell_type": "code",
   "execution_count": 51,
   "metadata": {},
   "outputs": [
    {
     "name": "stdout",
     "output_type": "stream",
     "text": [
      "url                          0.00\n",
      "creator                      0.00\n",
      "created_t                    0.00\n",
      "created_datetime             0.00\n",
      "last_modified_t              0.00\n",
      "                            ...  \n",
      "carbon-footprint_100g      100.00\n",
      "nutrition-score-fr_100g     21.44\n",
      "nutrition-score-uk_100g     21.44\n",
      "glycemic-index_100g        100.00\n",
      "water-hardness_100g        100.00\n",
      "Name: 0, Length: 162, dtype: float64\n"
     ]
    },
    {
     "data": {
      "application/javascript": "parent.postMessage({\"jupyterEvent\": \"custom.exercise_interaction\", \"data\": {\"outcomeType\": 1, \"valueTowardsCompletion\": 0.05, \"interactionType\": 1, \"questionType\": 1, \"questionId\": \"14_Exercise14\", \"failureMessage\": \"\", \"exceptionClass\": \"\", \"trace\": \"\"}}, \"*\")",
      "text/plain": [
       "<IPython.core.display.Javascript object>"
      ]
     },
     "metadata": {},
     "output_type": "display_data"
    },
    {
     "data": {
      "text/markdown": [
       "<span style=\"color:#33cc33\">Correct</span>"
      ],
      "text/plain": [
       "Correct"
      ]
     },
     "metadata": {},
     "output_type": "display_data"
    }
   ],
   "source": [
    "def exercise_14(df) -> pd.Series:\n",
    "    df_copy = df.copy()\n",
    "    occurence = df_copy.isna().mean() * 100\n",
    "    result = round(occurence[1:], 2)\n",
    "    result.name = 0  \n",
    "    print(result)\n",
    "    return result\n",
    "\n",
    "ex14_sol = exercise_14(df)\n",
    "q14.check()"
   ]
  },
  {
   "cell_type": "markdown",
   "metadata": {},
   "source": [
    "### Q15: Identify the top 5 manufacturers (\"brands\") based on the number of unique products."
   ]
  },
  {
   "cell_type": "code",
   "execution_count": 25,
   "metadata": {},
   "outputs": [
    {
     "data": {
      "application/javascript": "parent.postMessage({\"jupyterEvent\": \"custom.exercise_interaction\", \"data\": {\"outcomeType\": 2, \"failureMessage\": \"Incorrect value for `ex15_sol`\", \"interactionType\": 1, \"questionType\": 1, \"questionId\": \"15_Exercise15\", \"valueTowardsCompletion\": 0.0, \"exceptionClass\": \"\", \"trace\": \"\"}}, \"*\")",
      "text/plain": [
       "<IPython.core.display.Javascript object>"
      ]
     },
     "metadata": {},
     "output_type": "display_data"
    },
    {
     "data": {
      "text/markdown": [
       "<span style=\"color:#cc3333\">Incorrect:</span> Incorrect value for `ex15_sol`"
      ],
      "text/plain": [
       "Incorrect: Incorrect value for `ex15_sol`"
      ]
     },
     "metadata": {},
     "output_type": "display_data"
    }
   ],
   "source": [
    "def exercise_15(df) -> pd.Series:\n",
    "    df_copy = df.copy()\n",
    "    num_unique_prod = df_copy.groupby('brands')['product_name'].nunique()\n",
    "    #print(num_unique_prod)\n",
    "    top5_unique_prod = num_unique_prod.sort_values(ascending = False).head(5)\n",
    "    #print(top5_unique_prod)\n",
    "    return (top5_unique_prod)\n",
    "    #return NotImplementedError\n",
    "\n",
    "ex15_sol = exercise_15(df)\n",
    "q15.check()"
   ]
  },
  {
   "cell_type": "markdown",
   "metadata": {},
   "source": [
    "Q16: Find the most common food additives used in products across all countries.### "
   ]
  },
  {
   "cell_type": "code",
   "execution_count": null,
   "metadata": {},
   "outputs": [
    {
     "name": "stdout",
     "output_type": "stream",
     "text": [
      "\n",
      "My work: \n"
     ]
    },
    {
     "data": {
      "application/javascript": "parent.postMessage({\"jupyterEvent\": \"custom.exercise_interaction\", \"data\": {\"outcomeType\": 1, \"valueTowardsCompletion\": 0.05, \"interactionType\": 1, \"questionType\": 1, \"questionId\": \"16_Exercise16\", \"failureMessage\": \"\", \"exceptionClass\": \"\", \"trace\": \"\"}}, \"*\")",
      "text/plain": [
       "<IPython.core.display.Javascript object>"
      ]
     },
     "metadata": {},
     "output_type": "display_data"
    },
    {
     "data": {
      "text/markdown": [
       "<span style=\"color:#33cc33\">Correct</span>"
      ],
      "text/plain": [
       "Correct"
      ]
     },
     "metadata": {},
     "output_type": "display_data"
    }
   ],
   "source": [
    "def exercise_16(df) -> pd.Series:\n",
    "    df_copy = df.copy()\n",
    "    df_copy = df_copy.dropna(subset=['additives'])\n",
    "    #print(df_copy['additives'])\n",
    "\n",
    "    top_additives =df_copy['additives'].value_counts()\n",
    "\n",
    "    #print(top_additives.head(10))\n",
    "    return top_additives.head(10)\n",
    "    #return NotImplementedError\n",
    "\n",
    "ex16_sol = exercise_16(df)\n",
    "q16.check()"
   ]
  },
  {
   "cell_type": "markdown",
   "metadata": {},
   "source": [
    "### Q17: Calculate the average \"saturated-fat_100g\" of all products containing \"palm oil\" and all products that don't. Return a DataFrame with 2 columns \"contains_palm_oil\" and \"no_palm_oil\" listing your results. Round your result to the nearest 2 decimal places."
   ]
  },
  {
   "cell_type": "code",
   "execution_count": 28,
   "metadata": {},
   "outputs": [
    {
     "data": {
      "application/javascript": "parent.postMessage({\"jupyterEvent\": \"custom.exercise_interaction\", \"data\": {\"outcomeType\": 1, \"valueTowardsCompletion\": 0.05, \"interactionType\": 1, \"questionType\": 1, \"questionId\": \"17_Exercise17\", \"failureMessage\": \"\", \"exceptionClass\": \"\", \"trace\": \"\"}}, \"*\")",
      "text/plain": [
       "<IPython.core.display.Javascript object>"
      ]
     },
     "metadata": {},
     "output_type": "display_data"
    },
    {
     "data": {
      "text/markdown": [
       "<span style=\"color:#33cc33\">Correct</span>"
      ],
      "text/plain": [
       "Correct"
      ]
     },
     "metadata": {},
     "output_type": "display_data"
    }
   ],
   "source": [
    "def exercise_17(df) -> pd.DataFrame:\n",
    "    df_copy = df.copy()\n",
    "    #df_copy = df_copy.dropna(subset = ['saturated-fat_100g', 'ingredients_text'])\n",
    "    #print(df_copy['saturated-fat_100g'])\n",
    "\n",
    "    contains_palm_oil = df_copy['ingredients_text'].str.contains('palm oil', case = False, na = False)\n",
    "    no_palm = ~contains_palm_oil\n",
    "\n",
    "    # Tính trung bình\n",
    "    avg_contains = df_copy[contains_palm_oil]['saturated-fat_100g'].mean()\n",
    "    avg_no = df_copy[no_palm]['saturated-fat_100g'].mean()\n",
    "\n",
    "    # Làm tròn\n",
    "    avg_contains = round(avg_contains, 2)\n",
    "    avg_no = round(avg_no, 2)\n",
    "\n",
    "    # Tạo DataFrame kết quả\n",
    "    result = pd.DataFrame({\n",
    "        'contains_palm_oil': [avg_contains],\n",
    "        'no_palm_oil': [avg_no]\n",
    "    })\n",
    "\n",
    "    #print(result)\n",
    "    return result\n",
    "\n",
    "ex17_sol = exercise_17(df)\n",
    "q17.check()"
   ]
  },
  {
   "cell_type": "markdown",
   "metadata": {},
   "source": [
    "### Q18: Create a pivot table showing the average carbohydrate content ('carbohydrates_100g') for each food category across different countries."
   ]
  },
  {
   "cell_type": "markdown",
   "metadata": {},
   "source": [
    "This question cannot be tested currently using `leartools`, hence the `q18.check()` always ouput as `correct`. Make sure your code works by yourself before submitting to Github."
   ]
  },
  {
   "cell_type": "code",
   "execution_count": 52,
   "metadata": {},
   "outputs": [
    {
     "name": "stdout",
     "output_type": "stream",
     "text": [
      "The answer for this question is undetermined, use the online test instead.\n"
     ]
    },
    {
     "data": {
      "application/javascript": "parent.postMessage({\"jupyterEvent\": \"custom.exercise_interaction\", \"data\": {\"outcomeType\": 1, \"valueTowardsCompletion\": 0.05, \"interactionType\": 1, \"questionType\": 1, \"questionId\": \"18_Exercise18\", \"failureMessage\": \"\", \"exceptionClass\": \"\", \"trace\": \"\"}}, \"*\")",
      "text/plain": [
       "<IPython.core.display.Javascript object>"
      ]
     },
     "metadata": {},
     "output_type": "display_data"
    },
    {
     "data": {
      "text/markdown": [
       "<span style=\"color:#33cc33\">Correct</span>"
      ],
      "text/plain": [
       "Correct"
      ]
     },
     "metadata": {},
     "output_type": "display_data"
    }
   ],
   "source": [
    "def exercise_18(df) -> pd.DataFrame:\n",
    "    df_copy = df.copy()\n",
    "\n",
    "    # Loại bỏ các hàng không có thông tin cần thiết\n",
    "    df_copy = df_copy[['categories_en', 'countries_en', 'carbohydrates_100g']].dropna()\n",
    "\n",
    "    # Tạo pivot table\n",
    "    table = pd.pivot_table(\n",
    "        df_copy,\n",
    "        values='carbohydrates_100g',\n",
    "        index='categories_en',\n",
    "        columns='countries_en',\n",
    "        aggfunc='mean'\n",
    "    )\n",
    "\n",
    "    return table\n",
    "\n",
    "ex18_sol = exercise_18(df)\n",
    "q18.check()"
   ]
  },
  {
   "cell_type": "markdown",
   "metadata": {},
   "source": [
    "### Q19: Compare the average sodium levels ('sodium_100g') between processed and non-processed foods. Processed foods are those with \"categories\" matching one or more in the list given below. Round your results to the nearest 3 decimal places."
   ]
  },
  {
   "cell_type": "code",
   "execution_count": 30,
   "metadata": {},
   "outputs": [
    {
     "data": {
      "application/javascript": "parent.postMessage({\"jupyterEvent\": \"custom.exercise_interaction\", \"data\": {\"outcomeType\": 1, \"valueTowardsCompletion\": 0.05, \"interactionType\": 1, \"questionType\": 1, \"questionId\": \"19_Exercise19\", \"failureMessage\": \"\", \"exceptionClass\": \"\", \"trace\": \"\"}}, \"*\")",
      "text/plain": [
       "<IPython.core.display.Javascript object>"
      ]
     },
     "metadata": {},
     "output_type": "display_data"
    },
    {
     "data": {
      "text/markdown": [
       "<span style=\"color:#33cc33\">Correct</span>"
      ],
      "text/plain": [
       "Correct"
      ]
     },
     "metadata": {},
     "output_type": "display_data"
    }
   ],
   "source": [
    "processed_keywords = ['snack', 'fast food', 'ready meal', 'processed', 'canned', 'packaged']\n",
    "def exercise_19(df, processed_keywords) -> tuple:\n",
    "    mask_processed = df[\"categories\"].str.contains(\"|\".join(processed_keywords), case = False, na = False)\n",
    "    avg_processed = round(df.loc[mask_processed, \"sodium_100g\"].mean(), 3)\n",
    "    avg_nonprocessed = round(df.loc[~mask_processed, \"sodium_100g\"].mean(), 3)\n",
    "    #print(avg_nonprocessed, avg_processed)\n",
    "    return (avg_nonprocessed, avg_processed)\n",
    "    \n",
    "\n",
    "# Ví dụ gọi hàm với DataFrame df đã được nạp\n",
    "ex19_sol = exercise_19(df, processed_keywords)\n",
    "q19.check()"
   ]
  },
  {
   "cell_type": "markdown",
   "metadata": {},
   "source": [
    "### Q20: Extract the first ingredient from the 'ingredients_text' for each row. NaN values should be saved as 'Unknown'. Show the first 100 values."
   ]
  },
  {
   "cell_type": "code",
   "execution_count": 31,
   "metadata": {},
   "outputs": [
    {
     "data": {
      "application/javascript": "parent.postMessage({\"jupyterEvent\": \"custom.exercise_interaction\", \"data\": {\"outcomeType\": 1, \"valueTowardsCompletion\": 0.05, \"interactionType\": 1, \"questionType\": 1, \"questionId\": \"20_Exercise20\", \"failureMessage\": \"\", \"exceptionClass\": \"\", \"trace\": \"\"}}, \"*\")",
      "text/plain": [
       "<IPython.core.display.Javascript object>"
      ]
     },
     "metadata": {},
     "output_type": "display_data"
    },
    {
     "data": {
      "text/markdown": [
       "<span style=\"color:#33cc33\">Correct</span>"
      ],
      "text/plain": [
       "Correct"
      ]
     },
     "metadata": {},
     "output_type": "display_data"
    }
   ],
   "source": [
    "def exercise_20(df) -> pd.Series:\n",
    "    df_copy = df.copy()\n",
    "\n",
    "    df_copy['first_value'] = df_copy['ingredients_text'].apply(lambda x: str(x).split(',')[0] if pd.notnull(x) else \"Unknown\")\n",
    "    #print(df_copy['first_value'])\n",
    "    return(df_copy['first_value'].head(100))\n",
    "\n",
    "ex20_sol = exercise_20(df)\n",
    "q20.check()"
   ]
  }
 ],
 "metadata": {
  "kernelspec": {
   "display_name": "Python 3",
   "language": "python",
   "name": "python3"
  },
  "language_info": {
   "codemirror_mode": {
    "name": "ipython",
    "version": 3
   },
   "file_extension": ".py",
   "mimetype": "text/x-python",
   "name": "python",
   "nbconvert_exporter": "python",
   "pygments_lexer": "ipython3",
   "version": "3.12.1"
  }
 },
 "nbformat": 4,
 "nbformat_minor": 2
}
